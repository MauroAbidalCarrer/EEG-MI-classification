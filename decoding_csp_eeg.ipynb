{
  "cells": [
    {
      "cell_type": "markdown",
      "metadata": {},
      "source": [
        "\n",
        "\n",
        "# Motor imagery decoding from EEG data using the Common Spatial Pattern (CSP)\n",
        "\n",
        "Decoding of motor imagery applied to EEG data decomposed using CSP. A\n",
        "classifier is then applied to features extracted on CSP-filtered signals.\n",
        "\n",
        "See [CSP wikipedia page](https://en.wikipedia.org/wiki/Common_spatial_pattern) and  [Koles1991](https://doi.org/10.1016/0013-4694(91)90163-X).  \n",
        "The EEGBCI dataset is documented in [SchalkEtAl2004](http://doi:10.1109/TBME.2004.827072)  and is available at [PhysioNet](https://physionet.org/content/eegmmidb/1.0.0/), [GoldbergerEtAl2000](https://doi.org/10.1161/01.CIR.101.23.e215).  \n",
        "\n",
        "- Author: Mauro Abidal Carrer <mauroabidal@yahoo.fr>  \n",
        "- Orginal Authors: Martin Billinger <martin.billinger@tugraz.at>  \n",
        "- Original script: https://mne.tools/stable/auto_examples/decoding/decoding_csp_eeg.html  \n",
        "- License: BSD-3-Clause  "
      ]
    },
    {
      "cell_type": "code",
      "execution_count": 4,
      "metadata": {
        "collapsed": false
      },
      "outputs": [
        {
          "name": "stdout",
          "output_type": "stream",
          "text": [
            "Loading Physionet recordings... done.\n",
            "Applying band-pass filter... done.\n",
            "Creating epochs from raw data... done.\n"
          ]
        }
      ],
      "source": [
        "import numpy as np\n",
        "import matplotlib.pyplot as plt\n",
        "\n",
        "from sklearn.pipeline import Pipeline\n",
        "from sklearn.discriminant_analysis import LinearDiscriminantAnalysis\n",
        "from sklearn.model_selection import ShuffleSplit, cross_val_score\n",
        "\n",
        "from mne import Epochs, pick_types, events_from_annotations, set_log_level\n",
        "from mne.channels import make_standard_montage\n",
        "from mne.io import concatenate_raws, read_raw_edf\n",
        "from mne.datasets import eegbci\n",
        "\n",
        "from my_CSP import MyCSP\n",
        "\n",
        "set_log_level(verbose=False)\n",
        "\n",
        "print('Loading Physionet recordings...', end='')\n",
        "raw_fnames = eegbci.load_data(subject=1, runs=[6, 10, 14])                  # -Get paths to edf files.\n",
        "raw = concatenate_raws([read_raw_edf(f, preload=True) for f in raw_fnames]) # -Load(read_raw_edf) in memomry(preloard=True) recprdings and convcatenate them.\n",
        "eegbci.standardize(raw)  # set channel names                                # -Not sure what this does but it's necessary...\n",
        "raw.set_montage(make_standard_montage(\"standard_1005\"))                     # -Specify to MNE what montage/setup was used during the recording.\n",
        "print(' done.')                                                             #  \"standard_1005\" refers to a standardized way of placing electrodes on the testee.\n",
        "                                                                            #  See https://en.wikipedia.org/wiki/10%E2%80%9320_system_(EEG).\n",
        "\n",
        "\n",
        "print(f'Applying band-pass filter...', end='')\n",
        "raw.filter(7.0, 30.0, skip_by_annotation=\"edge\")                            # -Apply bandpass filter, only keep frequecies in the range 7-30 Hz.\n",
        "print(' done.')                                                             \n",
        "              \n",
        "events, _ = events_from_annotations(raw, event_id=dict(T1=1, T2=2))         # -Make events from annotaions, only use T1 and T2 annotations. Mark them as 0 and 1 respectively.\n",
        "                                                                            #  According to the Physionet EEG-MI dataset web page(https://physionet.org/content/eegmmidb/1.0.0/),\n",
        "                                                                            #  T0 corresponds to the motion of both fists and T1 to the motion of both feet.\n",
        "\n",
        "print('Creating epochs from raw data...', end='')\n",
        "picks = pick_types(raw.info, eeg=True)                                      # -Specify that we only want to listen to the EEG channels, the other channels are set to False by default.\n",
        "# Testing will be done with a running classifier\n",
        "epochs = Epochs(\n",
        "    raw,\n",
        "    events,\n",
        "    tmin=-1.0,\n",
        "    tmax=4.0,\n",
        "    proj=True,\n",
        "    picks=picks,\n",
        "    baseline=None,\n",
        "    preload=True,\n",
        ")\n",
        "print(' done.')"
      ]
    },
    {
      "cell_type": "markdown",
      "metadata": {},
      "source": [
        "### Training"
      ]
    },
    {
      "cell_type": "code",
      "execution_count": 21,
      "metadata": {
        "collapsed": false
      },
      "outputs": [
        {
          "name": "stdout",
          "output_type": "stream",
          "text": [
            "Classification accuracy: 0.9444444444444444.\n",
            "\n"
          ]
        }
      ],
      "source": [
        "epochs_data_train = epochs.get_data(tmin=1.0, tmax=2.0)\n",
        "labels = epochs.events[:, 2]\n",
        "\n",
        "cv = ShuffleSplit(10, test_size=0.2, random_state=42)\n",
        "cv_split = cv.split(epochs_data_train)\n",
        "\n",
        "# Assemble a classifier\n",
        "clf = Pipeline([(\"csp\", MyCSP(n_components=2)), (\"lda\", LinearDiscriminantAnalysis())])\n",
        "\n",
        "# Use scikit-learn Pipeline with cross_val_score function\n",
        "scores = cross_val_score(clf, epochs_data_train, labels, cv=cv, n_jobs=None, error_score='raise')\n",
        "print(f\"Classification accuracy: {np.mean(scores)}.\\n\")\n",
        "\n",
        "_ = clf.fit(epochs_data_train, labels)"
      ]
    },
    {
      "cell_type": "markdown",
      "metadata": {},
      "source": [
        "### Replaying EEG recodings in realtime"
      ]
    },
    {
      "cell_type": "code",
      "execution_count": 53,
      "metadata": {},
      "outputs": [
        {
          "name": "stdout",
          "output_type": "stream",
          "text": [
            "(60000,)\n"
          ]
        }
      ],
      "source": [
        "raw_data = raw.get_data()\n",
        "\n",
        "# make stim data from events.\n",
        "stim_data = np.empty((raw_data.shape[1]))\n",
        "for i in range(events.shape[0] - 1):\n",
        "    stim_data[events[i, 0]:events[i+1, 0]] = events[i, 2]\n",
        "stim_data[events[-1, 0]:stim_data.shape[0]] = events[-1, 2]\n",
        "\n",
        "window_size = epochs_data_train.shape[2]\n",
        "for start in range(0, raw_data.shape[1]-window_size):\n",
        "    data_window = [raw_data[:, start:start+window_size]]\n",
        "    stim = stim_data[start + window_size]\n",
        "    prediction = clf.predict(data_window)[0]\n",
        "    print('Sample:', start, ', stim:', stim, ', prediction:', prediction, ' ', prediction == stim)\n",
        "    "
      ]
    }
  ],
  "metadata": {
    "kernelspec": {
      "display_name": "Python 3",
      "language": "python",
      "name": "python3"
    },
    "language_info": {
      "codemirror_mode": {
        "name": "ipython",
        "version": 3
      },
      "file_extension": ".py",
      "mimetype": "text/x-python",
      "name": "python",
      "nbconvert_exporter": "python",
      "pygments_lexer": "ipython3",
      "version": "3.10.12"
    }
  },
  "nbformat": 4,
  "nbformat_minor": 0
}
