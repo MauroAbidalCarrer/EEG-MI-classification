{
  "cells": [
    {
      "cell_type": "markdown",
      "metadata": {},
      "source": [
        "\n",
        "\n",
        "# Motor imagery decoding from EEG data using the Common Spatial Pattern (CSP)\n",
        "\n",
        "Decoding of motor imagery applied to EEG data decomposed using CSP. A\n",
        "classifier is then applied to features extracted on CSP-filtered signals.\n",
        "\n",
        "See [CSP wikipedia page](https://en.wikipedia.org/wiki/Common_spatial_pattern) and  [Koles1991](https://doi.org/10.1016/0013-4694(91)90163-X).  \n",
        "The EEGBCI dataset is documented in [SchalkEtAl2004](http://doi:10.1109/TBME.2004.827072)  and is available at [PhysioNet](https://physionet.org/content/eegmmidb/1.0.0/), [GoldbergerEtAl2000](https://doi.org/10.1161/01.CIR.101.23.e215).  \n",
        "\n",
        "- Author: Mauro Abidal Carrer <mauroabidal@yahoo.fr>  \n",
        "- Orginal Authors: Martin Billinger <martin.billinger@tugraz.at>  \n",
        "- Original script: https://mne.tools/stable/auto_examples/decoding/decoding_csp_eeg.html  \n",
        "- License: BSD-3-Clause  "
      ]
    },
    {
      "cell_type": "code",
      "execution_count": null,
      "metadata": {
        "collapsed": false
      },
      "outputs": [],
      "source": [
        "import numpy as np\n",
        "import matplotlib.pyplot as plt\n",
        "\n",
        "from sklearn.pipeline import Pipeline\n",
        "from sklearn.discriminant_analysis import LinearDiscriminantAnalysis\n",
        "from sklearn.model_selection import ShuffleSplit, cross_val_score\n",
        "\n",
        "from mne import Epochs, pick_types, events_from_annotations, set_log_level\n",
        "from mne.channels import make_standard_montage\n",
        "from mne.io import concatenate_raws, read_raw_edf\n",
        "from mne.datasets import eegbci\n",
        "from mne.decoding import CSP\n",
        "\n",
        "# #############################################################################\n",
        "# # Set parameters and read data\n",
        "\n",
        "# Avoid classification of evoked responses by using epochs that start 1s after cue onset.\n",
        "tmin, tmax = -1.0, 4.0\n",
        "event_id = dict(hands=0, feet=1)\n",
        "subject = 1\n",
        "runs = [6, 10, 14]  # Runs indices of motor imagery: hands vs feet\n",
        "\n",
        "set_log_level(verbose=False)\n",
        "print('Loading Physionet recordings...', end='')\n",
        "\n",
        "raw_fnames = eegbci.load_data(subject, runs)                                # -Get paths to edf files.\n",
        "raw = concatenate_raws([read_raw_edf(f, preload=True) for f in raw_fnames]) # -Load(read_raw_edf) in memomry(preloard=True) recprdings and convcatenate them.\n",
        "eegbci.standardize(raw)  # set channel names                                # -Not sure what this does but it's necessary...\n",
        "raw.set_montage(make_standard_montage(\"standard_1005\"))                     # -Specify to MNE what montage/setup was used during the recording.\n",
        "                                                                            # \"standard_1005\" refers to a standardized way of placing electrodes on the testee.\n",
        "                                                                            # See https://en.wikipedia.org/wiki/10%E2%80%9320_system_(EEG).\n",
        "print(' done.')              \n",
        "set_log_level(verbose=True)                                                              \n",
        "\n",
        "raw.filter(7.0, 30.0, skip_by_annotation=\"edge\")                            # -Apply bandpass filter, only keep frequecies in the range 7-30 Hz.\n",
        "events, _ = events_from_annotations(raw, event_id=dict(T1=0, T2=1))         # -Make events from annotaions, only use T1 and T2 annotations. Mark them as 0 and 1 respectively.\n",
        "                                                                            # According to the Physionet EEG-MI dataset web page(https://physionet.org/content/eegmmidb/1.0.0/),\n",
        "                                                                            # T0 corresponds to the motion of both fists and T1 to the motion of both feet.\n",
        "\n",
        "set_log_level(verbose=False)\n",
        "print('Creating epochs from raw data...', end='')\n",
        "\n",
        "picks = pick_types(raw.info, eeg=True)                                      # Specify that we only want to listen to the EEG channels, the other channels are set to False by default.\n",
        "# Read epochs (train will be done only between 1 and 2s)\n",
        "# Testing will be done with a running classifier\n",
        "epochs = Epochs(\n",
        "    raw,\n",
        "    events,\n",
        "    event_id,\n",
        "    tmin,\n",
        "    tmax,\n",
        "    proj=True,\n",
        "    picks=picks,\n",
        "    baseline=None,\n",
        "    preload=True,\n",
        ")\n",
        "epochs_train = epochs.copy().crop(tmin=1.0, tmax=2.0)\n",
        "labels = epochs.events[:, -1]\n",
        "\n",
        "print(' done.')"
      ]
    },
    {
      "cell_type": "markdown",
      "metadata": {},
      "source": [
        "Classification with linear discrimant analysis"
      ]
    },
    {
      "cell_type": "code",
      "execution_count": null,
      "metadata": {
        "collapsed": false
      },
      "outputs": [],
      "source": [
        "# Define a monte-carlo cross-validation generator (reduce variance):\n",
        "scores = []\n",
        "epochs_data = epochs.get_data()\n",
        "epochs_data_train = epochs_train.get_data()\n",
        "cv = ShuffleSplit(10, test_size=0.2, random_state=42)\n",
        "cv_split = cv.split(epochs_data_train)\n",
        "\n",
        "# Assemble a classifier\n",
        "csp = CSP(n_components=4, reg=None, log=True, norm_trace=False)\n",
        "lda = LinearDiscriminantAnalysis()\n",
        "\n",
        "# Use scikit-learn Pipeline with cross_val_score function\n",
        "clf = Pipeline([(\"csp\", csp), (\"lda\", lda)])\n",
        "scores = cross_val_score(clf, epochs_data_train, labels, cv=cv, n_jobs=None)\n",
        "\n",
        "# Printing the results\n",
        "class_balance = np.mean(labels == labels[0])\n",
        "class_balance = max(class_balance, 1.0 - class_balance)\n",
        "print(f\"Classification accuracy: {np.mean(scores)}.\\n\")\n",
        "\n",
        "test = clf['csp']\n",
        "test.plot_patterns(epochs.info, ch_type=\"eeg\", size=1.5)\n",
        "print(test is csp)\n",
        "# plot CSP patterns estimated on full data for visualization\n",
        "# csp.fit_transform(epochs_data, labels)\n",
        "\n",
        "# csp.plot_patterns(epochs.info, ch_type=\"eeg\", units=\"Patterns (AU)\", size=1.5)"
      ]
    },
    {
      "cell_type": "markdown",
      "metadata": {},
      "source": [
        "Look at performance over time\n",
        "\n"
      ]
    },
    {
      "cell_type": "code",
      "execution_count": null,
      "metadata": {
        "collapsed": false
      },
      "outputs": [],
      "source": [
        "sfreq = raw.info[\"sfreq\"]\n",
        "w_length = int(sfreq * 0.5)  # running classifier: window length\n",
        "w_step = int(sfreq * 0.1)  # running classifier: window step size\n",
        "w_start = np.arange(0, epochs_data.shape[2] - w_length, w_step)\n",
        "\n",
        "scores_windows = []\n",
        "\n",
        "for train_idx, test_idx in cv_split:\n",
        "    y_train, y_test = labels[train_idx], labels[test_idx]\n",
        "\n",
        "    X_train = csp.fit_transform(epochs_data_train[train_idx], y_train)\n",
        "    X_test = csp.transform(epochs_data_train[test_idx])\n",
        "\n",
        "    # fit classifier\n",
        "    lda.fit(X_train, y_train)\n",
        "\n",
        "    # running classifier: test classifier on sliding window\n",
        "    score_this_window = []\n",
        "    for n in w_start:\n",
        "        X_test = csp.transform(epochs_data[test_idx][:, :, n : (n + w_length)])\n",
        "        score_this_window.append(lda.score(X_test, y_test))\n",
        "    scores_windows.append(score_this_window)\n",
        "\n",
        "# Plot scores over time\n",
        "w_times = (w_start + w_length / 2.0) / sfreq + epochs.tmin\n",
        "\n",
        "plt.figure()\n",
        "plt.plot(w_times, np.mean(scores_windows, 0), label=\"Score\")\n",
        "plt.axvline(0, linestyle=\"--\", color=\"k\", label=\"Onset\")\n",
        "plt.axhline(0.5, linestyle=\"-\", color=\"k\", label=\"Chance\")\n",
        "plt.xlabel(\"time (s)\")\n",
        "plt.ylabel(\"classification accuracy\")\n",
        "plt.title(\"Classification score over time\")\n",
        "plt.legend(loc=\"lower right\")\n",
        "plt.show()"
      ]
    }
  ],
  "metadata": {
    "kernelspec": {
      "display_name": "Python 3",
      "language": "python",
      "name": "python3"
    },
    "language_info": {
      "codemirror_mode": {
        "name": "ipython",
        "version": 3
      },
      "file_extension": ".py",
      "mimetype": "text/x-python",
      "name": "python",
      "nbconvert_exporter": "python",
      "pygments_lexer": "ipython3",
      "version": "3.10.12"
    }
  },
  "nbformat": 4,
  "nbformat_minor": 0
}
