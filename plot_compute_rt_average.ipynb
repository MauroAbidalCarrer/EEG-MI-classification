{
  "cells": [
    {
      "cell_type": "markdown",
      "metadata": {},
      "source": [
        "\n",
        "# Compute real-time evoked responses using moving averages\n",
        "\n",
        "This example demonstrates how to connect to an MNE Real-time server\n",
        "using the RtClient and use it together with RtEpochs to compute\n",
        "evoked responses using moving averages.\n",
        "\n",
        "Note: The MNE Real-time server (mne_rt_server), which is part of mne-cpp, has to be running on the same computer."
      ]
    },
    {
      "cell_type": "code",
      "execution_count": 1,
      "metadata": {
        "collapsed": false
      },
      "outputs": [
        {
          "name": "stdout",
          "output_type": "stream",
          "text": [
            "(65, 321)\n",
            "Not setting metadata\n",
            "Setting baseline interval to [-1.0, 0.0] s\n",
            "Applying baseline correction (mode: mean)\n",
            "0 projection items activated\n",
            "after epoch start listening\n",
            "after send data\n",
            "Just got epoch 1\n"
          ]
        },
        {
          "ename": "AttributeError",
          "evalue": "'NoneType' object has no attribute '_get_renderer'",
          "output_type": "error",
          "traceback": [
            "\u001b[0;31m---------------------------------------------------------------------------\u001b[0m",
            "\u001b[0;31mAttributeError\u001b[0m                            Traceback (most recent call last)",
            "File \u001b[0;32m~/.local/lib/python3.10/site-packages/IPython/core/formatters.py:340\u001b[0m, in \u001b[0;36mBaseFormatter.__call__\u001b[0;34m(self, obj)\u001b[0m\n\u001b[1;32m    338\u001b[0m     \u001b[39mpass\u001b[39;00m\n\u001b[1;32m    339\u001b[0m \u001b[39melse\u001b[39;00m:\n\u001b[0;32m--> 340\u001b[0m     \u001b[39mreturn\u001b[39;00m printer(obj)\n\u001b[1;32m    341\u001b[0m \u001b[39m# Finally look for special method names\u001b[39;00m\n\u001b[1;32m    342\u001b[0m method \u001b[39m=\u001b[39m get_real_method(obj, \u001b[39mself\u001b[39m\u001b[39m.\u001b[39mprint_method)\n",
            "File \u001b[0;32m~/.local/lib/python3.10/site-packages/IPython/core/pylabtools.py:152\u001b[0m, in \u001b[0;36mprint_figure\u001b[0;34m(fig, fmt, bbox_inches, base64, **kwargs)\u001b[0m\n\u001b[1;32m    149\u001b[0m     \u001b[39mfrom\u001b[39;00m \u001b[39mmatplotlib\u001b[39;00m\u001b[39m.\u001b[39;00m\u001b[39mbackend_bases\u001b[39;00m \u001b[39mimport\u001b[39;00m FigureCanvasBase\n\u001b[1;32m    150\u001b[0m     FigureCanvasBase(fig)\n\u001b[0;32m--> 152\u001b[0m fig\u001b[39m.\u001b[39;49mcanvas\u001b[39m.\u001b[39;49mprint_figure(bytes_io, \u001b[39m*\u001b[39;49m\u001b[39m*\u001b[39;49mkw)\n\u001b[1;32m    153\u001b[0m data \u001b[39m=\u001b[39m bytes_io\u001b[39m.\u001b[39mgetvalue()\n\u001b[1;32m    154\u001b[0m \u001b[39mif\u001b[39;00m fmt \u001b[39m==\u001b[39m \u001b[39m'\u001b[39m\u001b[39msvg\u001b[39m\u001b[39m'\u001b[39m:\n",
            "File \u001b[0;32m~/.local/lib/python3.10/site-packages/matplotlib/backend_bases.py:2353\u001b[0m, in \u001b[0;36mFigureCanvasBase.print_figure\u001b[0;34m(self, filename, dpi, facecolor, edgecolor, orientation, format, bbox_inches, pad_inches, bbox_extra_artists, backend, **kwargs)\u001b[0m\n\u001b[1;32m   2350\u001b[0m         bbox_inches \u001b[39m=\u001b[39m bbox_inches\u001b[39m.\u001b[39mpadded(pad_inches)\n\u001b[1;32m   2352\u001b[0m     \u001b[39m# call adjust_bbox to save only the given area\u001b[39;00m\n\u001b[0;32m-> 2353\u001b[0m     restore_bbox \u001b[39m=\u001b[39m _tight_bbox\u001b[39m.\u001b[39;49madjust_bbox(\n\u001b[1;32m   2354\u001b[0m         \u001b[39mself\u001b[39;49m\u001b[39m.\u001b[39;49mfigure, bbox_inches, \u001b[39mself\u001b[39;49m\u001b[39m.\u001b[39;49mfigure\u001b[39m.\u001b[39;49mcanvas\u001b[39m.\u001b[39;49mfixed_dpi)\n\u001b[1;32m   2356\u001b[0m     _bbox_inches_restore \u001b[39m=\u001b[39m (bbox_inches, restore_bbox)\n\u001b[1;32m   2357\u001b[0m \u001b[39melse\u001b[39;00m:\n",
            "File \u001b[0;32m~/.local/lib/python3.10/site-packages/matplotlib/_tight_bbox.py:28\u001b[0m, in \u001b[0;36madjust_bbox\u001b[0;34m(fig, bbox_inches, fixed_dpi)\u001b[0m\n\u001b[1;32m     26\u001b[0m locator \u001b[39m=\u001b[39m ax\u001b[39m.\u001b[39mget_axes_locator()\n\u001b[1;32m     27\u001b[0m \u001b[39mif\u001b[39;00m locator \u001b[39mis\u001b[39;00m \u001b[39mnot\u001b[39;00m \u001b[39mNone\u001b[39;00m:\n\u001b[0;32m---> 28\u001b[0m     ax\u001b[39m.\u001b[39mapply_aspect(locator(ax, \u001b[39mNone\u001b[39;49;00m))\n\u001b[1;32m     29\u001b[0m locator_list\u001b[39m.\u001b[39mappend(locator)\n\u001b[1;32m     30\u001b[0m current_pos \u001b[39m=\u001b[39m ax\u001b[39m.\u001b[39mget_position(original\u001b[39m=\u001b[39m\u001b[39mFalse\u001b[39;00m)\u001b[39m.\u001b[39mfrozen()\n",
            "File \u001b[0;32m~/.local/lib/python3.10/site-packages/mpl_toolkits/axes_grid1/inset_locator.py:73\u001b[0m, in \u001b[0;36mAnchoredLocatorBase.__call__\u001b[0;34m(self, ax, renderer)\u001b[0m\n\u001b[1;32m     71\u001b[0m \u001b[39mdef\u001b[39;00m \u001b[39m__call__\u001b[39m(\u001b[39mself\u001b[39m, ax, renderer):\n\u001b[1;32m     72\u001b[0m     \u001b[39mself\u001b[39m\u001b[39m.\u001b[39maxes \u001b[39m=\u001b[39m ax\n\u001b[0;32m---> 73\u001b[0m     bbox \u001b[39m=\u001b[39m \u001b[39mself\u001b[39;49m\u001b[39m.\u001b[39;49mget_window_extent(renderer)\n\u001b[1;32m     74\u001b[0m     px, py \u001b[39m=\u001b[39m \u001b[39mself\u001b[39m\u001b[39m.\u001b[39mget_offset(bbox\u001b[39m.\u001b[39mwidth, bbox\u001b[39m.\u001b[39mheight, \u001b[39m0\u001b[39m, \u001b[39m0\u001b[39m, renderer)\n\u001b[1;32m     75\u001b[0m     bbox_canvas \u001b[39m=\u001b[39m Bbox\u001b[39m.\u001b[39mfrom_bounds(px, py, bbox\u001b[39m.\u001b[39mwidth, bbox\u001b[39m.\u001b[39mheight)\n",
            "File \u001b[0;32m~/.local/lib/python3.10/site-packages/matplotlib/offsetbox.py:399\u001b[0m, in \u001b[0;36mOffsetBox.get_window_extent\u001b[0;34m(self, renderer)\u001b[0m\n\u001b[1;32m    396\u001b[0m \u001b[39mdef\u001b[39;00m \u001b[39mget_window_extent\u001b[39m(\u001b[39mself\u001b[39m, renderer\u001b[39m=\u001b[39m\u001b[39mNone\u001b[39;00m):\n\u001b[1;32m    397\u001b[0m     \u001b[39m# docstring inherited\u001b[39;00m\n\u001b[1;32m    398\u001b[0m     \u001b[39mif\u001b[39;00m renderer \u001b[39mis\u001b[39;00m \u001b[39mNone\u001b[39;00m:\n\u001b[0;32m--> 399\u001b[0m         renderer \u001b[39m=\u001b[39m \u001b[39mself\u001b[39;49m\u001b[39m.\u001b[39;49mfigure\u001b[39m.\u001b[39;49m_get_renderer()\n\u001b[1;32m    400\u001b[0m     bbox \u001b[39m=\u001b[39m \u001b[39mself\u001b[39m\u001b[39m.\u001b[39mget_bbox(renderer)\n\u001b[1;32m    401\u001b[0m     \u001b[39mtry\u001b[39;00m:  \u001b[39m# Some subclasses redefine get_offset to take no args.\u001b[39;00m\n",
            "\u001b[0;31mAttributeError\u001b[0m: 'NoneType' object has no attribute '_get_renderer'"
          ]
        },
        {
          "data": {
            "text/plain": [
              "<Figure size 640x300 with 2 Axes>"
            ]
          },
          "metadata": {},
          "output_type": "display_data"
        },
        {
          "name": "stdout",
          "output_type": "stream",
          "text": [
            "Just got epoch 2\n"
          ]
        },
        {
          "ename": "AttributeError",
          "evalue": "'NoneType' object has no attribute '_get_renderer'",
          "output_type": "error",
          "traceback": [
            "\u001b[0;31m---------------------------------------------------------------------------\u001b[0m",
            "\u001b[0;31mAttributeError\u001b[0m                            Traceback (most recent call last)",
            "File \u001b[0;32m~/.local/lib/python3.10/site-packages/IPython/core/formatters.py:340\u001b[0m, in \u001b[0;36mBaseFormatter.__call__\u001b[0;34m(self, obj)\u001b[0m\n\u001b[1;32m    338\u001b[0m     \u001b[39mpass\u001b[39;00m\n\u001b[1;32m    339\u001b[0m \u001b[39melse\u001b[39;00m:\n\u001b[0;32m--> 340\u001b[0m     \u001b[39mreturn\u001b[39;00m printer(obj)\n\u001b[1;32m    341\u001b[0m \u001b[39m# Finally look for special method names\u001b[39;00m\n\u001b[1;32m    342\u001b[0m method \u001b[39m=\u001b[39m get_real_method(obj, \u001b[39mself\u001b[39m\u001b[39m.\u001b[39mprint_method)\n",
            "File \u001b[0;32m~/.local/lib/python3.10/site-packages/IPython/core/pylabtools.py:152\u001b[0m, in \u001b[0;36mprint_figure\u001b[0;34m(fig, fmt, bbox_inches, base64, **kwargs)\u001b[0m\n\u001b[1;32m    149\u001b[0m     \u001b[39mfrom\u001b[39;00m \u001b[39mmatplotlib\u001b[39;00m\u001b[39m.\u001b[39;00m\u001b[39mbackend_bases\u001b[39;00m \u001b[39mimport\u001b[39;00m FigureCanvasBase\n\u001b[1;32m    150\u001b[0m     FigureCanvasBase(fig)\n\u001b[0;32m--> 152\u001b[0m fig\u001b[39m.\u001b[39;49mcanvas\u001b[39m.\u001b[39;49mprint_figure(bytes_io, \u001b[39m*\u001b[39;49m\u001b[39m*\u001b[39;49mkw)\n\u001b[1;32m    153\u001b[0m data \u001b[39m=\u001b[39m bytes_io\u001b[39m.\u001b[39mgetvalue()\n\u001b[1;32m    154\u001b[0m \u001b[39mif\u001b[39;00m fmt \u001b[39m==\u001b[39m \u001b[39m'\u001b[39m\u001b[39msvg\u001b[39m\u001b[39m'\u001b[39m:\n",
            "File \u001b[0;32m~/.local/lib/python3.10/site-packages/matplotlib/backend_bases.py:2353\u001b[0m, in \u001b[0;36mFigureCanvasBase.print_figure\u001b[0;34m(self, filename, dpi, facecolor, edgecolor, orientation, format, bbox_inches, pad_inches, bbox_extra_artists, backend, **kwargs)\u001b[0m\n\u001b[1;32m   2350\u001b[0m         bbox_inches \u001b[39m=\u001b[39m bbox_inches\u001b[39m.\u001b[39mpadded(pad_inches)\n\u001b[1;32m   2352\u001b[0m     \u001b[39m# call adjust_bbox to save only the given area\u001b[39;00m\n\u001b[0;32m-> 2353\u001b[0m     restore_bbox \u001b[39m=\u001b[39m _tight_bbox\u001b[39m.\u001b[39;49madjust_bbox(\n\u001b[1;32m   2354\u001b[0m         \u001b[39mself\u001b[39;49m\u001b[39m.\u001b[39;49mfigure, bbox_inches, \u001b[39mself\u001b[39;49m\u001b[39m.\u001b[39;49mfigure\u001b[39m.\u001b[39;49mcanvas\u001b[39m.\u001b[39;49mfixed_dpi)\n\u001b[1;32m   2356\u001b[0m     _bbox_inches_restore \u001b[39m=\u001b[39m (bbox_inches, restore_bbox)\n\u001b[1;32m   2357\u001b[0m \u001b[39melse\u001b[39;00m:\n",
            "File \u001b[0;32m~/.local/lib/python3.10/site-packages/matplotlib/_tight_bbox.py:28\u001b[0m, in \u001b[0;36madjust_bbox\u001b[0;34m(fig, bbox_inches, fixed_dpi)\u001b[0m\n\u001b[1;32m     26\u001b[0m locator \u001b[39m=\u001b[39m ax\u001b[39m.\u001b[39mget_axes_locator()\n\u001b[1;32m     27\u001b[0m \u001b[39mif\u001b[39;00m locator \u001b[39mis\u001b[39;00m \u001b[39mnot\u001b[39;00m \u001b[39mNone\u001b[39;00m:\n\u001b[0;32m---> 28\u001b[0m     ax\u001b[39m.\u001b[39mapply_aspect(locator(ax, \u001b[39mNone\u001b[39;49;00m))\n\u001b[1;32m     29\u001b[0m locator_list\u001b[39m.\u001b[39mappend(locator)\n\u001b[1;32m     30\u001b[0m current_pos \u001b[39m=\u001b[39m ax\u001b[39m.\u001b[39mget_position(original\u001b[39m=\u001b[39m\u001b[39mFalse\u001b[39;00m)\u001b[39m.\u001b[39mfrozen()\n",
            "File \u001b[0;32m~/.local/lib/python3.10/site-packages/mpl_toolkits/axes_grid1/inset_locator.py:73\u001b[0m, in \u001b[0;36mAnchoredLocatorBase.__call__\u001b[0;34m(self, ax, renderer)\u001b[0m\n\u001b[1;32m     71\u001b[0m \u001b[39mdef\u001b[39;00m \u001b[39m__call__\u001b[39m(\u001b[39mself\u001b[39m, ax, renderer):\n\u001b[1;32m     72\u001b[0m     \u001b[39mself\u001b[39m\u001b[39m.\u001b[39maxes \u001b[39m=\u001b[39m ax\n\u001b[0;32m---> 73\u001b[0m     bbox \u001b[39m=\u001b[39m \u001b[39mself\u001b[39;49m\u001b[39m.\u001b[39;49mget_window_extent(renderer)\n\u001b[1;32m     74\u001b[0m     px, py \u001b[39m=\u001b[39m \u001b[39mself\u001b[39m\u001b[39m.\u001b[39mget_offset(bbox\u001b[39m.\u001b[39mwidth, bbox\u001b[39m.\u001b[39mheight, \u001b[39m0\u001b[39m, \u001b[39m0\u001b[39m, renderer)\n\u001b[1;32m     75\u001b[0m     bbox_canvas \u001b[39m=\u001b[39m Bbox\u001b[39m.\u001b[39mfrom_bounds(px, py, bbox\u001b[39m.\u001b[39mwidth, bbox\u001b[39m.\u001b[39mheight)\n",
            "File \u001b[0;32m~/.local/lib/python3.10/site-packages/matplotlib/offsetbox.py:399\u001b[0m, in \u001b[0;36mOffsetBox.get_window_extent\u001b[0;34m(self, renderer)\u001b[0m\n\u001b[1;32m    396\u001b[0m \u001b[39mdef\u001b[39;00m \u001b[39mget_window_extent\u001b[39m(\u001b[39mself\u001b[39m, renderer\u001b[39m=\u001b[39m\u001b[39mNone\u001b[39;00m):\n\u001b[1;32m    397\u001b[0m     \u001b[39m# docstring inherited\u001b[39;00m\n\u001b[1;32m    398\u001b[0m     \u001b[39mif\u001b[39;00m renderer \u001b[39mis\u001b[39;00m \u001b[39mNone\u001b[39;00m:\n\u001b[0;32m--> 399\u001b[0m         renderer \u001b[39m=\u001b[39m \u001b[39mself\u001b[39;49m\u001b[39m.\u001b[39;49mfigure\u001b[39m.\u001b[39;49m_get_renderer()\n\u001b[1;32m    400\u001b[0m     bbox \u001b[39m=\u001b[39m \u001b[39mself\u001b[39m\u001b[39m.\u001b[39mget_bbox(renderer)\n\u001b[1;32m    401\u001b[0m     \u001b[39mtry\u001b[39;00m:  \u001b[39m# Some subclasses redefine get_offset to take no args.\u001b[39;00m\n",
            "\u001b[0;31mAttributeError\u001b[0m: 'NoneType' object has no attribute '_get_renderer'"
          ]
        },
        {
          "data": {
            "text/plain": [
              "<Figure size 640x300 with 2 Axes>"
            ]
          },
          "metadata": {},
          "output_type": "display_data"
        },
        {
          "name": "stdout",
          "output_type": "stream",
          "text": [
            "Just got epoch 3\n"
          ]
        },
        {
          "ename": "AttributeError",
          "evalue": "'NoneType' object has no attribute '_get_renderer'",
          "output_type": "error",
          "traceback": [
            "\u001b[0;31m---------------------------------------------------------------------------\u001b[0m",
            "\u001b[0;31mAttributeError\u001b[0m                            Traceback (most recent call last)",
            "File \u001b[0;32m~/.local/lib/python3.10/site-packages/IPython/core/formatters.py:340\u001b[0m, in \u001b[0;36mBaseFormatter.__call__\u001b[0;34m(self, obj)\u001b[0m\n\u001b[1;32m    338\u001b[0m     \u001b[39mpass\u001b[39;00m\n\u001b[1;32m    339\u001b[0m \u001b[39melse\u001b[39;00m:\n\u001b[0;32m--> 340\u001b[0m     \u001b[39mreturn\u001b[39;00m printer(obj)\n\u001b[1;32m    341\u001b[0m \u001b[39m# Finally look for special method names\u001b[39;00m\n\u001b[1;32m    342\u001b[0m method \u001b[39m=\u001b[39m get_real_method(obj, \u001b[39mself\u001b[39m\u001b[39m.\u001b[39mprint_method)\n",
            "File \u001b[0;32m~/.local/lib/python3.10/site-packages/IPython/core/pylabtools.py:152\u001b[0m, in \u001b[0;36mprint_figure\u001b[0;34m(fig, fmt, bbox_inches, base64, **kwargs)\u001b[0m\n\u001b[1;32m    149\u001b[0m     \u001b[39mfrom\u001b[39;00m \u001b[39mmatplotlib\u001b[39;00m\u001b[39m.\u001b[39;00m\u001b[39mbackend_bases\u001b[39;00m \u001b[39mimport\u001b[39;00m FigureCanvasBase\n\u001b[1;32m    150\u001b[0m     FigureCanvasBase(fig)\n\u001b[0;32m--> 152\u001b[0m fig\u001b[39m.\u001b[39;49mcanvas\u001b[39m.\u001b[39;49mprint_figure(bytes_io, \u001b[39m*\u001b[39;49m\u001b[39m*\u001b[39;49mkw)\n\u001b[1;32m    153\u001b[0m data \u001b[39m=\u001b[39m bytes_io\u001b[39m.\u001b[39mgetvalue()\n\u001b[1;32m    154\u001b[0m \u001b[39mif\u001b[39;00m fmt \u001b[39m==\u001b[39m \u001b[39m'\u001b[39m\u001b[39msvg\u001b[39m\u001b[39m'\u001b[39m:\n",
            "File \u001b[0;32m~/.local/lib/python3.10/site-packages/matplotlib/backend_bases.py:2353\u001b[0m, in \u001b[0;36mFigureCanvasBase.print_figure\u001b[0;34m(self, filename, dpi, facecolor, edgecolor, orientation, format, bbox_inches, pad_inches, bbox_extra_artists, backend, **kwargs)\u001b[0m\n\u001b[1;32m   2350\u001b[0m         bbox_inches \u001b[39m=\u001b[39m bbox_inches\u001b[39m.\u001b[39mpadded(pad_inches)\n\u001b[1;32m   2352\u001b[0m     \u001b[39m# call adjust_bbox to save only the given area\u001b[39;00m\n\u001b[0;32m-> 2353\u001b[0m     restore_bbox \u001b[39m=\u001b[39m _tight_bbox\u001b[39m.\u001b[39;49madjust_bbox(\n\u001b[1;32m   2354\u001b[0m         \u001b[39mself\u001b[39;49m\u001b[39m.\u001b[39;49mfigure, bbox_inches, \u001b[39mself\u001b[39;49m\u001b[39m.\u001b[39;49mfigure\u001b[39m.\u001b[39;49mcanvas\u001b[39m.\u001b[39;49mfixed_dpi)\n\u001b[1;32m   2356\u001b[0m     _bbox_inches_restore \u001b[39m=\u001b[39m (bbox_inches, restore_bbox)\n\u001b[1;32m   2357\u001b[0m \u001b[39melse\u001b[39;00m:\n",
            "File \u001b[0;32m~/.local/lib/python3.10/site-packages/matplotlib/_tight_bbox.py:28\u001b[0m, in \u001b[0;36madjust_bbox\u001b[0;34m(fig, bbox_inches, fixed_dpi)\u001b[0m\n\u001b[1;32m     26\u001b[0m locator \u001b[39m=\u001b[39m ax\u001b[39m.\u001b[39mget_axes_locator()\n\u001b[1;32m     27\u001b[0m \u001b[39mif\u001b[39;00m locator \u001b[39mis\u001b[39;00m \u001b[39mnot\u001b[39;00m \u001b[39mNone\u001b[39;00m:\n\u001b[0;32m---> 28\u001b[0m     ax\u001b[39m.\u001b[39mapply_aspect(locator(ax, \u001b[39mNone\u001b[39;49;00m))\n\u001b[1;32m     29\u001b[0m locator_list\u001b[39m.\u001b[39mappend(locator)\n\u001b[1;32m     30\u001b[0m current_pos \u001b[39m=\u001b[39m ax\u001b[39m.\u001b[39mget_position(original\u001b[39m=\u001b[39m\u001b[39mFalse\u001b[39;00m)\u001b[39m.\u001b[39mfrozen()\n",
            "File \u001b[0;32m~/.local/lib/python3.10/site-packages/mpl_toolkits/axes_grid1/inset_locator.py:73\u001b[0m, in \u001b[0;36mAnchoredLocatorBase.__call__\u001b[0;34m(self, ax, renderer)\u001b[0m\n\u001b[1;32m     71\u001b[0m \u001b[39mdef\u001b[39;00m \u001b[39m__call__\u001b[39m(\u001b[39mself\u001b[39m, ax, renderer):\n\u001b[1;32m     72\u001b[0m     \u001b[39mself\u001b[39m\u001b[39m.\u001b[39maxes \u001b[39m=\u001b[39m ax\n\u001b[0;32m---> 73\u001b[0m     bbox \u001b[39m=\u001b[39m \u001b[39mself\u001b[39;49m\u001b[39m.\u001b[39;49mget_window_extent(renderer)\n\u001b[1;32m     74\u001b[0m     px, py \u001b[39m=\u001b[39m \u001b[39mself\u001b[39m\u001b[39m.\u001b[39mget_offset(bbox\u001b[39m.\u001b[39mwidth, bbox\u001b[39m.\u001b[39mheight, \u001b[39m0\u001b[39m, \u001b[39m0\u001b[39m, renderer)\n\u001b[1;32m     75\u001b[0m     bbox_canvas \u001b[39m=\u001b[39m Bbox\u001b[39m.\u001b[39mfrom_bounds(px, py, bbox\u001b[39m.\u001b[39mwidth, bbox\u001b[39m.\u001b[39mheight)\n",
            "File \u001b[0;32m~/.local/lib/python3.10/site-packages/matplotlib/offsetbox.py:399\u001b[0m, in \u001b[0;36mOffsetBox.get_window_extent\u001b[0;34m(self, renderer)\u001b[0m\n\u001b[1;32m    396\u001b[0m \u001b[39mdef\u001b[39;00m \u001b[39mget_window_extent\u001b[39m(\u001b[39mself\u001b[39m, renderer\u001b[39m=\u001b[39m\u001b[39mNone\u001b[39;00m):\n\u001b[1;32m    397\u001b[0m     \u001b[39m# docstring inherited\u001b[39;00m\n\u001b[1;32m    398\u001b[0m     \u001b[39mif\u001b[39;00m renderer \u001b[39mis\u001b[39;00m \u001b[39mNone\u001b[39;00m:\n\u001b[0;32m--> 399\u001b[0m         renderer \u001b[39m=\u001b[39m \u001b[39mself\u001b[39;49m\u001b[39m.\u001b[39;49mfigure\u001b[39m.\u001b[39;49m_get_renderer()\n\u001b[1;32m    400\u001b[0m     bbox \u001b[39m=\u001b[39m \u001b[39mself\u001b[39m\u001b[39m.\u001b[39mget_bbox(renderer)\n\u001b[1;32m    401\u001b[0m     \u001b[39mtry\u001b[39;00m:  \u001b[39m# Some subclasses redefine get_offset to take no args.\u001b[39;00m\n",
            "\u001b[0;31mAttributeError\u001b[0m: 'NoneType' object has no attribute '_get_renderer'"
          ]
        },
        {
          "data": {
            "text/plain": [
              "<Figure size 640x300 with 2 Axes>"
            ]
          },
          "metadata": {},
          "output_type": "display_data"
        },
        {
          "name": "stdout",
          "output_type": "stream",
          "text": [
            "Just got epoch 4\n"
          ]
        },
        {
          "ename": "AttributeError",
          "evalue": "'NoneType' object has no attribute '_get_renderer'",
          "output_type": "error",
          "traceback": [
            "\u001b[0;31m---------------------------------------------------------------------------\u001b[0m",
            "\u001b[0;31mAttributeError\u001b[0m                            Traceback (most recent call last)",
            "File \u001b[0;32m~/.local/lib/python3.10/site-packages/IPython/core/formatters.py:340\u001b[0m, in \u001b[0;36mBaseFormatter.__call__\u001b[0;34m(self, obj)\u001b[0m\n\u001b[1;32m    338\u001b[0m     \u001b[39mpass\u001b[39;00m\n\u001b[1;32m    339\u001b[0m \u001b[39melse\u001b[39;00m:\n\u001b[0;32m--> 340\u001b[0m     \u001b[39mreturn\u001b[39;00m printer(obj)\n\u001b[1;32m    341\u001b[0m \u001b[39m# Finally look for special method names\u001b[39;00m\n\u001b[1;32m    342\u001b[0m method \u001b[39m=\u001b[39m get_real_method(obj, \u001b[39mself\u001b[39m\u001b[39m.\u001b[39mprint_method)\n",
            "File \u001b[0;32m~/.local/lib/python3.10/site-packages/IPython/core/pylabtools.py:152\u001b[0m, in \u001b[0;36mprint_figure\u001b[0;34m(fig, fmt, bbox_inches, base64, **kwargs)\u001b[0m\n\u001b[1;32m    149\u001b[0m     \u001b[39mfrom\u001b[39;00m \u001b[39mmatplotlib\u001b[39;00m\u001b[39m.\u001b[39;00m\u001b[39mbackend_bases\u001b[39;00m \u001b[39mimport\u001b[39;00m FigureCanvasBase\n\u001b[1;32m    150\u001b[0m     FigureCanvasBase(fig)\n\u001b[0;32m--> 152\u001b[0m fig\u001b[39m.\u001b[39;49mcanvas\u001b[39m.\u001b[39;49mprint_figure(bytes_io, \u001b[39m*\u001b[39;49m\u001b[39m*\u001b[39;49mkw)\n\u001b[1;32m    153\u001b[0m data \u001b[39m=\u001b[39m bytes_io\u001b[39m.\u001b[39mgetvalue()\n\u001b[1;32m    154\u001b[0m \u001b[39mif\u001b[39;00m fmt \u001b[39m==\u001b[39m \u001b[39m'\u001b[39m\u001b[39msvg\u001b[39m\u001b[39m'\u001b[39m:\n",
            "File \u001b[0;32m~/.local/lib/python3.10/site-packages/matplotlib/backend_bases.py:2353\u001b[0m, in \u001b[0;36mFigureCanvasBase.print_figure\u001b[0;34m(self, filename, dpi, facecolor, edgecolor, orientation, format, bbox_inches, pad_inches, bbox_extra_artists, backend, **kwargs)\u001b[0m\n\u001b[1;32m   2350\u001b[0m         bbox_inches \u001b[39m=\u001b[39m bbox_inches\u001b[39m.\u001b[39mpadded(pad_inches)\n\u001b[1;32m   2352\u001b[0m     \u001b[39m# call adjust_bbox to save only the given area\u001b[39;00m\n\u001b[0;32m-> 2353\u001b[0m     restore_bbox \u001b[39m=\u001b[39m _tight_bbox\u001b[39m.\u001b[39;49madjust_bbox(\n\u001b[1;32m   2354\u001b[0m         \u001b[39mself\u001b[39;49m\u001b[39m.\u001b[39;49mfigure, bbox_inches, \u001b[39mself\u001b[39;49m\u001b[39m.\u001b[39;49mfigure\u001b[39m.\u001b[39;49mcanvas\u001b[39m.\u001b[39;49mfixed_dpi)\n\u001b[1;32m   2356\u001b[0m     _bbox_inches_restore \u001b[39m=\u001b[39m (bbox_inches, restore_bbox)\n\u001b[1;32m   2357\u001b[0m \u001b[39melse\u001b[39;00m:\n",
            "File \u001b[0;32m~/.local/lib/python3.10/site-packages/matplotlib/_tight_bbox.py:28\u001b[0m, in \u001b[0;36madjust_bbox\u001b[0;34m(fig, bbox_inches, fixed_dpi)\u001b[0m\n\u001b[1;32m     26\u001b[0m locator \u001b[39m=\u001b[39m ax\u001b[39m.\u001b[39mget_axes_locator()\n\u001b[1;32m     27\u001b[0m \u001b[39mif\u001b[39;00m locator \u001b[39mis\u001b[39;00m \u001b[39mnot\u001b[39;00m \u001b[39mNone\u001b[39;00m:\n\u001b[0;32m---> 28\u001b[0m     ax\u001b[39m.\u001b[39mapply_aspect(locator(ax, \u001b[39mNone\u001b[39;49;00m))\n\u001b[1;32m     29\u001b[0m locator_list\u001b[39m.\u001b[39mappend(locator)\n\u001b[1;32m     30\u001b[0m current_pos \u001b[39m=\u001b[39m ax\u001b[39m.\u001b[39mget_position(original\u001b[39m=\u001b[39m\u001b[39mFalse\u001b[39;00m)\u001b[39m.\u001b[39mfrozen()\n",
            "File \u001b[0;32m~/.local/lib/python3.10/site-packages/mpl_toolkits/axes_grid1/inset_locator.py:73\u001b[0m, in \u001b[0;36mAnchoredLocatorBase.__call__\u001b[0;34m(self, ax, renderer)\u001b[0m\n\u001b[1;32m     71\u001b[0m \u001b[39mdef\u001b[39;00m \u001b[39m__call__\u001b[39m(\u001b[39mself\u001b[39m, ax, renderer):\n\u001b[1;32m     72\u001b[0m     \u001b[39mself\u001b[39m\u001b[39m.\u001b[39maxes \u001b[39m=\u001b[39m ax\n\u001b[0;32m---> 73\u001b[0m     bbox \u001b[39m=\u001b[39m \u001b[39mself\u001b[39;49m\u001b[39m.\u001b[39;49mget_window_extent(renderer)\n\u001b[1;32m     74\u001b[0m     px, py \u001b[39m=\u001b[39m \u001b[39mself\u001b[39m\u001b[39m.\u001b[39mget_offset(bbox\u001b[39m.\u001b[39mwidth, bbox\u001b[39m.\u001b[39mheight, \u001b[39m0\u001b[39m, \u001b[39m0\u001b[39m, renderer)\n\u001b[1;32m     75\u001b[0m     bbox_canvas \u001b[39m=\u001b[39m Bbox\u001b[39m.\u001b[39mfrom_bounds(px, py, bbox\u001b[39m.\u001b[39mwidth, bbox\u001b[39m.\u001b[39mheight)\n",
            "File \u001b[0;32m~/.local/lib/python3.10/site-packages/matplotlib/offsetbox.py:399\u001b[0m, in \u001b[0;36mOffsetBox.get_window_extent\u001b[0;34m(self, renderer)\u001b[0m\n\u001b[1;32m    396\u001b[0m \u001b[39mdef\u001b[39;00m \u001b[39mget_window_extent\u001b[39m(\u001b[39mself\u001b[39m, renderer\u001b[39m=\u001b[39m\u001b[39mNone\u001b[39;00m):\n\u001b[1;32m    397\u001b[0m     \u001b[39m# docstring inherited\u001b[39;00m\n\u001b[1;32m    398\u001b[0m     \u001b[39mif\u001b[39;00m renderer \u001b[39mis\u001b[39;00m \u001b[39mNone\u001b[39;00m:\n\u001b[0;32m--> 399\u001b[0m         renderer \u001b[39m=\u001b[39m \u001b[39mself\u001b[39;49m\u001b[39m.\u001b[39;49mfigure\u001b[39m.\u001b[39;49m_get_renderer()\n\u001b[1;32m    400\u001b[0m     bbox \u001b[39m=\u001b[39m \u001b[39mself\u001b[39m\u001b[39m.\u001b[39mget_bbox(renderer)\n\u001b[1;32m    401\u001b[0m     \u001b[39mtry\u001b[39;00m:  \u001b[39m# Some subclasses redefine get_offset to take no args.\u001b[39;00m\n",
            "\u001b[0;31mAttributeError\u001b[0m: 'NoneType' object has no attribute '_get_renderer'"
          ]
        },
        {
          "data": {
            "text/plain": [
              "<Figure size 640x300 with 2 Axes>"
            ]
          },
          "metadata": {},
          "output_type": "display_data"
        },
        {
          "name": "stdout",
          "output_type": "stream",
          "text": [
            "Just got epoch 5\n"
          ]
        },
        {
          "ename": "AttributeError",
          "evalue": "'NoneType' object has no attribute '_get_renderer'",
          "output_type": "error",
          "traceback": [
            "\u001b[0;31m---------------------------------------------------------------------------\u001b[0m",
            "\u001b[0;31mAttributeError\u001b[0m                            Traceback (most recent call last)",
            "File \u001b[0;32m~/.local/lib/python3.10/site-packages/IPython/core/formatters.py:340\u001b[0m, in \u001b[0;36mBaseFormatter.__call__\u001b[0;34m(self, obj)\u001b[0m\n\u001b[1;32m    338\u001b[0m     \u001b[39mpass\u001b[39;00m\n\u001b[1;32m    339\u001b[0m \u001b[39melse\u001b[39;00m:\n\u001b[0;32m--> 340\u001b[0m     \u001b[39mreturn\u001b[39;00m printer(obj)\n\u001b[1;32m    341\u001b[0m \u001b[39m# Finally look for special method names\u001b[39;00m\n\u001b[1;32m    342\u001b[0m method \u001b[39m=\u001b[39m get_real_method(obj, \u001b[39mself\u001b[39m\u001b[39m.\u001b[39mprint_method)\n",
            "File \u001b[0;32m~/.local/lib/python3.10/site-packages/IPython/core/pylabtools.py:152\u001b[0m, in \u001b[0;36mprint_figure\u001b[0;34m(fig, fmt, bbox_inches, base64, **kwargs)\u001b[0m\n\u001b[1;32m    149\u001b[0m     \u001b[39mfrom\u001b[39;00m \u001b[39mmatplotlib\u001b[39;00m\u001b[39m.\u001b[39;00m\u001b[39mbackend_bases\u001b[39;00m \u001b[39mimport\u001b[39;00m FigureCanvasBase\n\u001b[1;32m    150\u001b[0m     FigureCanvasBase(fig)\n\u001b[0;32m--> 152\u001b[0m fig\u001b[39m.\u001b[39;49mcanvas\u001b[39m.\u001b[39;49mprint_figure(bytes_io, \u001b[39m*\u001b[39;49m\u001b[39m*\u001b[39;49mkw)\n\u001b[1;32m    153\u001b[0m data \u001b[39m=\u001b[39m bytes_io\u001b[39m.\u001b[39mgetvalue()\n\u001b[1;32m    154\u001b[0m \u001b[39mif\u001b[39;00m fmt \u001b[39m==\u001b[39m \u001b[39m'\u001b[39m\u001b[39msvg\u001b[39m\u001b[39m'\u001b[39m:\n",
            "File \u001b[0;32m~/.local/lib/python3.10/site-packages/matplotlib/backend_bases.py:2353\u001b[0m, in \u001b[0;36mFigureCanvasBase.print_figure\u001b[0;34m(self, filename, dpi, facecolor, edgecolor, orientation, format, bbox_inches, pad_inches, bbox_extra_artists, backend, **kwargs)\u001b[0m\n\u001b[1;32m   2350\u001b[0m         bbox_inches \u001b[39m=\u001b[39m bbox_inches\u001b[39m.\u001b[39mpadded(pad_inches)\n\u001b[1;32m   2352\u001b[0m     \u001b[39m# call adjust_bbox to save only the given area\u001b[39;00m\n\u001b[0;32m-> 2353\u001b[0m     restore_bbox \u001b[39m=\u001b[39m _tight_bbox\u001b[39m.\u001b[39;49madjust_bbox(\n\u001b[1;32m   2354\u001b[0m         \u001b[39mself\u001b[39;49m\u001b[39m.\u001b[39;49mfigure, bbox_inches, \u001b[39mself\u001b[39;49m\u001b[39m.\u001b[39;49mfigure\u001b[39m.\u001b[39;49mcanvas\u001b[39m.\u001b[39;49mfixed_dpi)\n\u001b[1;32m   2356\u001b[0m     _bbox_inches_restore \u001b[39m=\u001b[39m (bbox_inches, restore_bbox)\n\u001b[1;32m   2357\u001b[0m \u001b[39melse\u001b[39;00m:\n",
            "File \u001b[0;32m~/.local/lib/python3.10/site-packages/matplotlib/_tight_bbox.py:28\u001b[0m, in \u001b[0;36madjust_bbox\u001b[0;34m(fig, bbox_inches, fixed_dpi)\u001b[0m\n\u001b[1;32m     26\u001b[0m locator \u001b[39m=\u001b[39m ax\u001b[39m.\u001b[39mget_axes_locator()\n\u001b[1;32m     27\u001b[0m \u001b[39mif\u001b[39;00m locator \u001b[39mis\u001b[39;00m \u001b[39mnot\u001b[39;00m \u001b[39mNone\u001b[39;00m:\n\u001b[0;32m---> 28\u001b[0m     ax\u001b[39m.\u001b[39mapply_aspect(locator(ax, \u001b[39mNone\u001b[39;49;00m))\n\u001b[1;32m     29\u001b[0m locator_list\u001b[39m.\u001b[39mappend(locator)\n\u001b[1;32m     30\u001b[0m current_pos \u001b[39m=\u001b[39m ax\u001b[39m.\u001b[39mget_position(original\u001b[39m=\u001b[39m\u001b[39mFalse\u001b[39;00m)\u001b[39m.\u001b[39mfrozen()\n",
            "File \u001b[0;32m~/.local/lib/python3.10/site-packages/mpl_toolkits/axes_grid1/inset_locator.py:73\u001b[0m, in \u001b[0;36mAnchoredLocatorBase.__call__\u001b[0;34m(self, ax, renderer)\u001b[0m\n\u001b[1;32m     71\u001b[0m \u001b[39mdef\u001b[39;00m \u001b[39m__call__\u001b[39m(\u001b[39mself\u001b[39m, ax, renderer):\n\u001b[1;32m     72\u001b[0m     \u001b[39mself\u001b[39m\u001b[39m.\u001b[39maxes \u001b[39m=\u001b[39m ax\n\u001b[0;32m---> 73\u001b[0m     bbox \u001b[39m=\u001b[39m \u001b[39mself\u001b[39;49m\u001b[39m.\u001b[39;49mget_window_extent(renderer)\n\u001b[1;32m     74\u001b[0m     px, py \u001b[39m=\u001b[39m \u001b[39mself\u001b[39m\u001b[39m.\u001b[39mget_offset(bbox\u001b[39m.\u001b[39mwidth, bbox\u001b[39m.\u001b[39mheight, \u001b[39m0\u001b[39m, \u001b[39m0\u001b[39m, renderer)\n\u001b[1;32m     75\u001b[0m     bbox_canvas \u001b[39m=\u001b[39m Bbox\u001b[39m.\u001b[39mfrom_bounds(px, py, bbox\u001b[39m.\u001b[39mwidth, bbox\u001b[39m.\u001b[39mheight)\n",
            "File \u001b[0;32m~/.local/lib/python3.10/site-packages/matplotlib/offsetbox.py:399\u001b[0m, in \u001b[0;36mOffsetBox.get_window_extent\u001b[0;34m(self, renderer)\u001b[0m\n\u001b[1;32m    396\u001b[0m \u001b[39mdef\u001b[39;00m \u001b[39mget_window_extent\u001b[39m(\u001b[39mself\u001b[39m, renderer\u001b[39m=\u001b[39m\u001b[39mNone\u001b[39;00m):\n\u001b[1;32m    397\u001b[0m     \u001b[39m# docstring inherited\u001b[39;00m\n\u001b[1;32m    398\u001b[0m     \u001b[39mif\u001b[39;00m renderer \u001b[39mis\u001b[39;00m \u001b[39mNone\u001b[39;00m:\n\u001b[0;32m--> 399\u001b[0m         renderer \u001b[39m=\u001b[39m \u001b[39mself\u001b[39;49m\u001b[39m.\u001b[39;49mfigure\u001b[39m.\u001b[39;49m_get_renderer()\n\u001b[1;32m    400\u001b[0m     bbox \u001b[39m=\u001b[39m \u001b[39mself\u001b[39m\u001b[39m.\u001b[39mget_bbox(renderer)\n\u001b[1;32m    401\u001b[0m     \u001b[39mtry\u001b[39;00m:  \u001b[39m# Some subclasses redefine get_offset to take no args.\u001b[39;00m\n",
            "\u001b[0;31mAttributeError\u001b[0m: 'NoneType' object has no attribute '_get_renderer'"
          ]
        },
        {
          "data": {
            "text/plain": [
              "<Figure size 640x300 with 2 Axes>"
            ]
          },
          "metadata": {},
          "output_type": "display_data"
        },
        {
          "name": "stdout",
          "output_type": "stream",
          "text": [
            "Just got epoch 6\n"
          ]
        },
        {
          "ename": "AttributeError",
          "evalue": "'NoneType' object has no attribute '_get_renderer'",
          "output_type": "error",
          "traceback": [
            "\u001b[0;31m---------------------------------------------------------------------------\u001b[0m",
            "\u001b[0;31mAttributeError\u001b[0m                            Traceback (most recent call last)",
            "File \u001b[0;32m~/.local/lib/python3.10/site-packages/IPython/core/formatters.py:340\u001b[0m, in \u001b[0;36mBaseFormatter.__call__\u001b[0;34m(self, obj)\u001b[0m\n\u001b[1;32m    338\u001b[0m     \u001b[39mpass\u001b[39;00m\n\u001b[1;32m    339\u001b[0m \u001b[39melse\u001b[39;00m:\n\u001b[0;32m--> 340\u001b[0m     \u001b[39mreturn\u001b[39;00m printer(obj)\n\u001b[1;32m    341\u001b[0m \u001b[39m# Finally look for special method names\u001b[39;00m\n\u001b[1;32m    342\u001b[0m method \u001b[39m=\u001b[39m get_real_method(obj, \u001b[39mself\u001b[39m\u001b[39m.\u001b[39mprint_method)\n",
            "File \u001b[0;32m~/.local/lib/python3.10/site-packages/IPython/core/pylabtools.py:152\u001b[0m, in \u001b[0;36mprint_figure\u001b[0;34m(fig, fmt, bbox_inches, base64, **kwargs)\u001b[0m\n\u001b[1;32m    149\u001b[0m     \u001b[39mfrom\u001b[39;00m \u001b[39mmatplotlib\u001b[39;00m\u001b[39m.\u001b[39;00m\u001b[39mbackend_bases\u001b[39;00m \u001b[39mimport\u001b[39;00m FigureCanvasBase\n\u001b[1;32m    150\u001b[0m     FigureCanvasBase(fig)\n\u001b[0;32m--> 152\u001b[0m fig\u001b[39m.\u001b[39;49mcanvas\u001b[39m.\u001b[39;49mprint_figure(bytes_io, \u001b[39m*\u001b[39;49m\u001b[39m*\u001b[39;49mkw)\n\u001b[1;32m    153\u001b[0m data \u001b[39m=\u001b[39m bytes_io\u001b[39m.\u001b[39mgetvalue()\n\u001b[1;32m    154\u001b[0m \u001b[39mif\u001b[39;00m fmt \u001b[39m==\u001b[39m \u001b[39m'\u001b[39m\u001b[39msvg\u001b[39m\u001b[39m'\u001b[39m:\n",
            "File \u001b[0;32m~/.local/lib/python3.10/site-packages/matplotlib/backend_bases.py:2353\u001b[0m, in \u001b[0;36mFigureCanvasBase.print_figure\u001b[0;34m(self, filename, dpi, facecolor, edgecolor, orientation, format, bbox_inches, pad_inches, bbox_extra_artists, backend, **kwargs)\u001b[0m\n\u001b[1;32m   2350\u001b[0m         bbox_inches \u001b[39m=\u001b[39m bbox_inches\u001b[39m.\u001b[39mpadded(pad_inches)\n\u001b[1;32m   2352\u001b[0m     \u001b[39m# call adjust_bbox to save only the given area\u001b[39;00m\n\u001b[0;32m-> 2353\u001b[0m     restore_bbox \u001b[39m=\u001b[39m _tight_bbox\u001b[39m.\u001b[39;49madjust_bbox(\n\u001b[1;32m   2354\u001b[0m         \u001b[39mself\u001b[39;49m\u001b[39m.\u001b[39;49mfigure, bbox_inches, \u001b[39mself\u001b[39;49m\u001b[39m.\u001b[39;49mfigure\u001b[39m.\u001b[39;49mcanvas\u001b[39m.\u001b[39;49mfixed_dpi)\n\u001b[1;32m   2356\u001b[0m     _bbox_inches_restore \u001b[39m=\u001b[39m (bbox_inches, restore_bbox)\n\u001b[1;32m   2357\u001b[0m \u001b[39melse\u001b[39;00m:\n",
            "File \u001b[0;32m~/.local/lib/python3.10/site-packages/matplotlib/_tight_bbox.py:28\u001b[0m, in \u001b[0;36madjust_bbox\u001b[0;34m(fig, bbox_inches, fixed_dpi)\u001b[0m\n\u001b[1;32m     26\u001b[0m locator \u001b[39m=\u001b[39m ax\u001b[39m.\u001b[39mget_axes_locator()\n\u001b[1;32m     27\u001b[0m \u001b[39mif\u001b[39;00m locator \u001b[39mis\u001b[39;00m \u001b[39mnot\u001b[39;00m \u001b[39mNone\u001b[39;00m:\n\u001b[0;32m---> 28\u001b[0m     ax\u001b[39m.\u001b[39mapply_aspect(locator(ax, \u001b[39mNone\u001b[39;49;00m))\n\u001b[1;32m     29\u001b[0m locator_list\u001b[39m.\u001b[39mappend(locator)\n\u001b[1;32m     30\u001b[0m current_pos \u001b[39m=\u001b[39m ax\u001b[39m.\u001b[39mget_position(original\u001b[39m=\u001b[39m\u001b[39mFalse\u001b[39;00m)\u001b[39m.\u001b[39mfrozen()\n",
            "File \u001b[0;32m~/.local/lib/python3.10/site-packages/mpl_toolkits/axes_grid1/inset_locator.py:73\u001b[0m, in \u001b[0;36mAnchoredLocatorBase.__call__\u001b[0;34m(self, ax, renderer)\u001b[0m\n\u001b[1;32m     71\u001b[0m \u001b[39mdef\u001b[39;00m \u001b[39m__call__\u001b[39m(\u001b[39mself\u001b[39m, ax, renderer):\n\u001b[1;32m     72\u001b[0m     \u001b[39mself\u001b[39m\u001b[39m.\u001b[39maxes \u001b[39m=\u001b[39m ax\n\u001b[0;32m---> 73\u001b[0m     bbox \u001b[39m=\u001b[39m \u001b[39mself\u001b[39;49m\u001b[39m.\u001b[39;49mget_window_extent(renderer)\n\u001b[1;32m     74\u001b[0m     px, py \u001b[39m=\u001b[39m \u001b[39mself\u001b[39m\u001b[39m.\u001b[39mget_offset(bbox\u001b[39m.\u001b[39mwidth, bbox\u001b[39m.\u001b[39mheight, \u001b[39m0\u001b[39m, \u001b[39m0\u001b[39m, renderer)\n\u001b[1;32m     75\u001b[0m     bbox_canvas \u001b[39m=\u001b[39m Bbox\u001b[39m.\u001b[39mfrom_bounds(px, py, bbox\u001b[39m.\u001b[39mwidth, bbox\u001b[39m.\u001b[39mheight)\n",
            "File \u001b[0;32m~/.local/lib/python3.10/site-packages/matplotlib/offsetbox.py:399\u001b[0m, in \u001b[0;36mOffsetBox.get_window_extent\u001b[0;34m(self, renderer)\u001b[0m\n\u001b[1;32m    396\u001b[0m \u001b[39mdef\u001b[39;00m \u001b[39mget_window_extent\u001b[39m(\u001b[39mself\u001b[39m, renderer\u001b[39m=\u001b[39m\u001b[39mNone\u001b[39;00m):\n\u001b[1;32m    397\u001b[0m     \u001b[39m# docstring inherited\u001b[39;00m\n\u001b[1;32m    398\u001b[0m     \u001b[39mif\u001b[39;00m renderer \u001b[39mis\u001b[39;00m \u001b[39mNone\u001b[39;00m:\n\u001b[0;32m--> 399\u001b[0m         renderer \u001b[39m=\u001b[39m \u001b[39mself\u001b[39;49m\u001b[39m.\u001b[39;49mfigure\u001b[39m.\u001b[39;49m_get_renderer()\n\u001b[1;32m    400\u001b[0m     bbox \u001b[39m=\u001b[39m \u001b[39mself\u001b[39m\u001b[39m.\u001b[39mget_bbox(renderer)\n\u001b[1;32m    401\u001b[0m     \u001b[39mtry\u001b[39;00m:  \u001b[39m# Some subclasses redefine get_offset to take no args.\u001b[39;00m\n",
            "\u001b[0;31mAttributeError\u001b[0m: 'NoneType' object has no attribute '_get_renderer'"
          ]
        },
        {
          "data": {
            "text/plain": [
              "<Figure size 640x300 with 2 Axes>"
            ]
          },
          "metadata": {},
          "output_type": "display_data"
        },
        {
          "name": "stdout",
          "output_type": "stream",
          "text": [
            "Just got epoch 7\n"
          ]
        },
        {
          "ename": "AttributeError",
          "evalue": "'NoneType' object has no attribute '_get_renderer'",
          "output_type": "error",
          "traceback": [
            "\u001b[0;31m---------------------------------------------------------------------------\u001b[0m",
            "\u001b[0;31mAttributeError\u001b[0m                            Traceback (most recent call last)",
            "File \u001b[0;32m~/.local/lib/python3.10/site-packages/IPython/core/formatters.py:340\u001b[0m, in \u001b[0;36mBaseFormatter.__call__\u001b[0;34m(self, obj)\u001b[0m\n\u001b[1;32m    338\u001b[0m     \u001b[39mpass\u001b[39;00m\n\u001b[1;32m    339\u001b[0m \u001b[39melse\u001b[39;00m:\n\u001b[0;32m--> 340\u001b[0m     \u001b[39mreturn\u001b[39;00m printer(obj)\n\u001b[1;32m    341\u001b[0m \u001b[39m# Finally look for special method names\u001b[39;00m\n\u001b[1;32m    342\u001b[0m method \u001b[39m=\u001b[39m get_real_method(obj, \u001b[39mself\u001b[39m\u001b[39m.\u001b[39mprint_method)\n",
            "File \u001b[0;32m~/.local/lib/python3.10/site-packages/IPython/core/pylabtools.py:152\u001b[0m, in \u001b[0;36mprint_figure\u001b[0;34m(fig, fmt, bbox_inches, base64, **kwargs)\u001b[0m\n\u001b[1;32m    149\u001b[0m     \u001b[39mfrom\u001b[39;00m \u001b[39mmatplotlib\u001b[39;00m\u001b[39m.\u001b[39;00m\u001b[39mbackend_bases\u001b[39;00m \u001b[39mimport\u001b[39;00m FigureCanvasBase\n\u001b[1;32m    150\u001b[0m     FigureCanvasBase(fig)\n\u001b[0;32m--> 152\u001b[0m fig\u001b[39m.\u001b[39;49mcanvas\u001b[39m.\u001b[39;49mprint_figure(bytes_io, \u001b[39m*\u001b[39;49m\u001b[39m*\u001b[39;49mkw)\n\u001b[1;32m    153\u001b[0m data \u001b[39m=\u001b[39m bytes_io\u001b[39m.\u001b[39mgetvalue()\n\u001b[1;32m    154\u001b[0m \u001b[39mif\u001b[39;00m fmt \u001b[39m==\u001b[39m \u001b[39m'\u001b[39m\u001b[39msvg\u001b[39m\u001b[39m'\u001b[39m:\n",
            "File \u001b[0;32m~/.local/lib/python3.10/site-packages/matplotlib/backend_bases.py:2353\u001b[0m, in \u001b[0;36mFigureCanvasBase.print_figure\u001b[0;34m(self, filename, dpi, facecolor, edgecolor, orientation, format, bbox_inches, pad_inches, bbox_extra_artists, backend, **kwargs)\u001b[0m\n\u001b[1;32m   2350\u001b[0m         bbox_inches \u001b[39m=\u001b[39m bbox_inches\u001b[39m.\u001b[39mpadded(pad_inches)\n\u001b[1;32m   2352\u001b[0m     \u001b[39m# call adjust_bbox to save only the given area\u001b[39;00m\n\u001b[0;32m-> 2353\u001b[0m     restore_bbox \u001b[39m=\u001b[39m _tight_bbox\u001b[39m.\u001b[39;49madjust_bbox(\n\u001b[1;32m   2354\u001b[0m         \u001b[39mself\u001b[39;49m\u001b[39m.\u001b[39;49mfigure, bbox_inches, \u001b[39mself\u001b[39;49m\u001b[39m.\u001b[39;49mfigure\u001b[39m.\u001b[39;49mcanvas\u001b[39m.\u001b[39;49mfixed_dpi)\n\u001b[1;32m   2356\u001b[0m     _bbox_inches_restore \u001b[39m=\u001b[39m (bbox_inches, restore_bbox)\n\u001b[1;32m   2357\u001b[0m \u001b[39melse\u001b[39;00m:\n",
            "File \u001b[0;32m~/.local/lib/python3.10/site-packages/matplotlib/_tight_bbox.py:28\u001b[0m, in \u001b[0;36madjust_bbox\u001b[0;34m(fig, bbox_inches, fixed_dpi)\u001b[0m\n\u001b[1;32m     26\u001b[0m locator \u001b[39m=\u001b[39m ax\u001b[39m.\u001b[39mget_axes_locator()\n\u001b[1;32m     27\u001b[0m \u001b[39mif\u001b[39;00m locator \u001b[39mis\u001b[39;00m \u001b[39mnot\u001b[39;00m \u001b[39mNone\u001b[39;00m:\n\u001b[0;32m---> 28\u001b[0m     ax\u001b[39m.\u001b[39mapply_aspect(locator(ax, \u001b[39mNone\u001b[39;49;00m))\n\u001b[1;32m     29\u001b[0m locator_list\u001b[39m.\u001b[39mappend(locator)\n\u001b[1;32m     30\u001b[0m current_pos \u001b[39m=\u001b[39m ax\u001b[39m.\u001b[39mget_position(original\u001b[39m=\u001b[39m\u001b[39mFalse\u001b[39;00m)\u001b[39m.\u001b[39mfrozen()\n",
            "File \u001b[0;32m~/.local/lib/python3.10/site-packages/mpl_toolkits/axes_grid1/inset_locator.py:73\u001b[0m, in \u001b[0;36mAnchoredLocatorBase.__call__\u001b[0;34m(self, ax, renderer)\u001b[0m\n\u001b[1;32m     71\u001b[0m \u001b[39mdef\u001b[39;00m \u001b[39m__call__\u001b[39m(\u001b[39mself\u001b[39m, ax, renderer):\n\u001b[1;32m     72\u001b[0m     \u001b[39mself\u001b[39m\u001b[39m.\u001b[39maxes \u001b[39m=\u001b[39m ax\n\u001b[0;32m---> 73\u001b[0m     bbox \u001b[39m=\u001b[39m \u001b[39mself\u001b[39;49m\u001b[39m.\u001b[39;49mget_window_extent(renderer)\n\u001b[1;32m     74\u001b[0m     px, py \u001b[39m=\u001b[39m \u001b[39mself\u001b[39m\u001b[39m.\u001b[39mget_offset(bbox\u001b[39m.\u001b[39mwidth, bbox\u001b[39m.\u001b[39mheight, \u001b[39m0\u001b[39m, \u001b[39m0\u001b[39m, renderer)\n\u001b[1;32m     75\u001b[0m     bbox_canvas \u001b[39m=\u001b[39m Bbox\u001b[39m.\u001b[39mfrom_bounds(px, py, bbox\u001b[39m.\u001b[39mwidth, bbox\u001b[39m.\u001b[39mheight)\n",
            "File \u001b[0;32m~/.local/lib/python3.10/site-packages/matplotlib/offsetbox.py:399\u001b[0m, in \u001b[0;36mOffsetBox.get_window_extent\u001b[0;34m(self, renderer)\u001b[0m\n\u001b[1;32m    396\u001b[0m \u001b[39mdef\u001b[39;00m \u001b[39mget_window_extent\u001b[39m(\u001b[39mself\u001b[39m, renderer\u001b[39m=\u001b[39m\u001b[39mNone\u001b[39;00m):\n\u001b[1;32m    397\u001b[0m     \u001b[39m# docstring inherited\u001b[39;00m\n\u001b[1;32m    398\u001b[0m     \u001b[39mif\u001b[39;00m renderer \u001b[39mis\u001b[39;00m \u001b[39mNone\u001b[39;00m:\n\u001b[0;32m--> 399\u001b[0m         renderer \u001b[39m=\u001b[39m \u001b[39mself\u001b[39;49m\u001b[39m.\u001b[39;49mfigure\u001b[39m.\u001b[39;49m_get_renderer()\n\u001b[1;32m    400\u001b[0m     bbox \u001b[39m=\u001b[39m \u001b[39mself\u001b[39m\u001b[39m.\u001b[39mget_bbox(renderer)\n\u001b[1;32m    401\u001b[0m     \u001b[39mtry\u001b[39;00m:  \u001b[39m# Some subclasses redefine get_offset to take no args.\u001b[39;00m\n",
            "\u001b[0;31mAttributeError\u001b[0m: 'NoneType' object has no attribute '_get_renderer'"
          ]
        },
        {
          "data": {
            "text/plain": [
              "<Figure size 640x300 with 2 Axes>"
            ]
          },
          "metadata": {},
          "output_type": "display_data"
        },
        {
          "name": "stdout",
          "output_type": "stream",
          "text": [
            "Just got epoch 8\n"
          ]
        },
        {
          "ename": "AttributeError",
          "evalue": "'NoneType' object has no attribute '_get_renderer'",
          "output_type": "error",
          "traceback": [
            "\u001b[0;31m---------------------------------------------------------------------------\u001b[0m",
            "\u001b[0;31mAttributeError\u001b[0m                            Traceback (most recent call last)",
            "File \u001b[0;32m~/.local/lib/python3.10/site-packages/IPython/core/formatters.py:340\u001b[0m, in \u001b[0;36mBaseFormatter.__call__\u001b[0;34m(self, obj)\u001b[0m\n\u001b[1;32m    338\u001b[0m     \u001b[39mpass\u001b[39;00m\n\u001b[1;32m    339\u001b[0m \u001b[39melse\u001b[39;00m:\n\u001b[0;32m--> 340\u001b[0m     \u001b[39mreturn\u001b[39;00m printer(obj)\n\u001b[1;32m    341\u001b[0m \u001b[39m# Finally look for special method names\u001b[39;00m\n\u001b[1;32m    342\u001b[0m method \u001b[39m=\u001b[39m get_real_method(obj, \u001b[39mself\u001b[39m\u001b[39m.\u001b[39mprint_method)\n",
            "File \u001b[0;32m~/.local/lib/python3.10/site-packages/IPython/core/pylabtools.py:152\u001b[0m, in \u001b[0;36mprint_figure\u001b[0;34m(fig, fmt, bbox_inches, base64, **kwargs)\u001b[0m\n\u001b[1;32m    149\u001b[0m     \u001b[39mfrom\u001b[39;00m \u001b[39mmatplotlib\u001b[39;00m\u001b[39m.\u001b[39;00m\u001b[39mbackend_bases\u001b[39;00m \u001b[39mimport\u001b[39;00m FigureCanvasBase\n\u001b[1;32m    150\u001b[0m     FigureCanvasBase(fig)\n\u001b[0;32m--> 152\u001b[0m fig\u001b[39m.\u001b[39;49mcanvas\u001b[39m.\u001b[39;49mprint_figure(bytes_io, \u001b[39m*\u001b[39;49m\u001b[39m*\u001b[39;49mkw)\n\u001b[1;32m    153\u001b[0m data \u001b[39m=\u001b[39m bytes_io\u001b[39m.\u001b[39mgetvalue()\n\u001b[1;32m    154\u001b[0m \u001b[39mif\u001b[39;00m fmt \u001b[39m==\u001b[39m \u001b[39m'\u001b[39m\u001b[39msvg\u001b[39m\u001b[39m'\u001b[39m:\n",
            "File \u001b[0;32m~/.local/lib/python3.10/site-packages/matplotlib/backend_bases.py:2353\u001b[0m, in \u001b[0;36mFigureCanvasBase.print_figure\u001b[0;34m(self, filename, dpi, facecolor, edgecolor, orientation, format, bbox_inches, pad_inches, bbox_extra_artists, backend, **kwargs)\u001b[0m\n\u001b[1;32m   2350\u001b[0m         bbox_inches \u001b[39m=\u001b[39m bbox_inches\u001b[39m.\u001b[39mpadded(pad_inches)\n\u001b[1;32m   2352\u001b[0m     \u001b[39m# call adjust_bbox to save only the given area\u001b[39;00m\n\u001b[0;32m-> 2353\u001b[0m     restore_bbox \u001b[39m=\u001b[39m _tight_bbox\u001b[39m.\u001b[39;49madjust_bbox(\n\u001b[1;32m   2354\u001b[0m         \u001b[39mself\u001b[39;49m\u001b[39m.\u001b[39;49mfigure, bbox_inches, \u001b[39mself\u001b[39;49m\u001b[39m.\u001b[39;49mfigure\u001b[39m.\u001b[39;49mcanvas\u001b[39m.\u001b[39;49mfixed_dpi)\n\u001b[1;32m   2356\u001b[0m     _bbox_inches_restore \u001b[39m=\u001b[39m (bbox_inches, restore_bbox)\n\u001b[1;32m   2357\u001b[0m \u001b[39melse\u001b[39;00m:\n",
            "File \u001b[0;32m~/.local/lib/python3.10/site-packages/matplotlib/_tight_bbox.py:28\u001b[0m, in \u001b[0;36madjust_bbox\u001b[0;34m(fig, bbox_inches, fixed_dpi)\u001b[0m\n\u001b[1;32m     26\u001b[0m locator \u001b[39m=\u001b[39m ax\u001b[39m.\u001b[39mget_axes_locator()\n\u001b[1;32m     27\u001b[0m \u001b[39mif\u001b[39;00m locator \u001b[39mis\u001b[39;00m \u001b[39mnot\u001b[39;00m \u001b[39mNone\u001b[39;00m:\n\u001b[0;32m---> 28\u001b[0m     ax\u001b[39m.\u001b[39mapply_aspect(locator(ax, \u001b[39mNone\u001b[39;49;00m))\n\u001b[1;32m     29\u001b[0m locator_list\u001b[39m.\u001b[39mappend(locator)\n\u001b[1;32m     30\u001b[0m current_pos \u001b[39m=\u001b[39m ax\u001b[39m.\u001b[39mget_position(original\u001b[39m=\u001b[39m\u001b[39mFalse\u001b[39;00m)\u001b[39m.\u001b[39mfrozen()\n",
            "File \u001b[0;32m~/.local/lib/python3.10/site-packages/mpl_toolkits/axes_grid1/inset_locator.py:73\u001b[0m, in \u001b[0;36mAnchoredLocatorBase.__call__\u001b[0;34m(self, ax, renderer)\u001b[0m\n\u001b[1;32m     71\u001b[0m \u001b[39mdef\u001b[39;00m \u001b[39m__call__\u001b[39m(\u001b[39mself\u001b[39m, ax, renderer):\n\u001b[1;32m     72\u001b[0m     \u001b[39mself\u001b[39m\u001b[39m.\u001b[39maxes \u001b[39m=\u001b[39m ax\n\u001b[0;32m---> 73\u001b[0m     bbox \u001b[39m=\u001b[39m \u001b[39mself\u001b[39;49m\u001b[39m.\u001b[39;49mget_window_extent(renderer)\n\u001b[1;32m     74\u001b[0m     px, py \u001b[39m=\u001b[39m \u001b[39mself\u001b[39m\u001b[39m.\u001b[39mget_offset(bbox\u001b[39m.\u001b[39mwidth, bbox\u001b[39m.\u001b[39mheight, \u001b[39m0\u001b[39m, \u001b[39m0\u001b[39m, renderer)\n\u001b[1;32m     75\u001b[0m     bbox_canvas \u001b[39m=\u001b[39m Bbox\u001b[39m.\u001b[39mfrom_bounds(px, py, bbox\u001b[39m.\u001b[39mwidth, bbox\u001b[39m.\u001b[39mheight)\n",
            "File \u001b[0;32m~/.local/lib/python3.10/site-packages/matplotlib/offsetbox.py:399\u001b[0m, in \u001b[0;36mOffsetBox.get_window_extent\u001b[0;34m(self, renderer)\u001b[0m\n\u001b[1;32m    396\u001b[0m \u001b[39mdef\u001b[39;00m \u001b[39mget_window_extent\u001b[39m(\u001b[39mself\u001b[39m, renderer\u001b[39m=\u001b[39m\u001b[39mNone\u001b[39;00m):\n\u001b[1;32m    397\u001b[0m     \u001b[39m# docstring inherited\u001b[39;00m\n\u001b[1;32m    398\u001b[0m     \u001b[39mif\u001b[39;00m renderer \u001b[39mis\u001b[39;00m \u001b[39mNone\u001b[39;00m:\n\u001b[0;32m--> 399\u001b[0m         renderer \u001b[39m=\u001b[39m \u001b[39mself\u001b[39;49m\u001b[39m.\u001b[39;49mfigure\u001b[39m.\u001b[39;49m_get_renderer()\n\u001b[1;32m    400\u001b[0m     bbox \u001b[39m=\u001b[39m \u001b[39mself\u001b[39m\u001b[39m.\u001b[39mget_bbox(renderer)\n\u001b[1;32m    401\u001b[0m     \u001b[39mtry\u001b[39;00m:  \u001b[39m# Some subclasses redefine get_offset to take no args.\u001b[39;00m\n",
            "\u001b[0;31mAttributeError\u001b[0m: 'NoneType' object has no attribute '_get_renderer'"
          ]
        },
        {
          "data": {
            "text/plain": [
              "<Figure size 640x300 with 2 Axes>"
            ]
          },
          "metadata": {},
          "output_type": "display_data"
        },
        {
          "name": "stdout",
          "output_type": "stream",
          "text": [
            "Just got epoch 9\n"
          ]
        },
        {
          "ename": "AttributeError",
          "evalue": "'NoneType' object has no attribute '_get_renderer'",
          "output_type": "error",
          "traceback": [
            "\u001b[0;31m---------------------------------------------------------------------------\u001b[0m",
            "\u001b[0;31mAttributeError\u001b[0m                            Traceback (most recent call last)",
            "File \u001b[0;32m~/.local/lib/python3.10/site-packages/IPython/core/formatters.py:340\u001b[0m, in \u001b[0;36mBaseFormatter.__call__\u001b[0;34m(self, obj)\u001b[0m\n\u001b[1;32m    338\u001b[0m     \u001b[39mpass\u001b[39;00m\n\u001b[1;32m    339\u001b[0m \u001b[39melse\u001b[39;00m:\n\u001b[0;32m--> 340\u001b[0m     \u001b[39mreturn\u001b[39;00m printer(obj)\n\u001b[1;32m    341\u001b[0m \u001b[39m# Finally look for special method names\u001b[39;00m\n\u001b[1;32m    342\u001b[0m method \u001b[39m=\u001b[39m get_real_method(obj, \u001b[39mself\u001b[39m\u001b[39m.\u001b[39mprint_method)\n",
            "File \u001b[0;32m~/.local/lib/python3.10/site-packages/IPython/core/pylabtools.py:152\u001b[0m, in \u001b[0;36mprint_figure\u001b[0;34m(fig, fmt, bbox_inches, base64, **kwargs)\u001b[0m\n\u001b[1;32m    149\u001b[0m     \u001b[39mfrom\u001b[39;00m \u001b[39mmatplotlib\u001b[39;00m\u001b[39m.\u001b[39;00m\u001b[39mbackend_bases\u001b[39;00m \u001b[39mimport\u001b[39;00m FigureCanvasBase\n\u001b[1;32m    150\u001b[0m     FigureCanvasBase(fig)\n\u001b[0;32m--> 152\u001b[0m fig\u001b[39m.\u001b[39;49mcanvas\u001b[39m.\u001b[39;49mprint_figure(bytes_io, \u001b[39m*\u001b[39;49m\u001b[39m*\u001b[39;49mkw)\n\u001b[1;32m    153\u001b[0m data \u001b[39m=\u001b[39m bytes_io\u001b[39m.\u001b[39mgetvalue()\n\u001b[1;32m    154\u001b[0m \u001b[39mif\u001b[39;00m fmt \u001b[39m==\u001b[39m \u001b[39m'\u001b[39m\u001b[39msvg\u001b[39m\u001b[39m'\u001b[39m:\n",
            "File \u001b[0;32m~/.local/lib/python3.10/site-packages/matplotlib/backend_bases.py:2353\u001b[0m, in \u001b[0;36mFigureCanvasBase.print_figure\u001b[0;34m(self, filename, dpi, facecolor, edgecolor, orientation, format, bbox_inches, pad_inches, bbox_extra_artists, backend, **kwargs)\u001b[0m\n\u001b[1;32m   2350\u001b[0m         bbox_inches \u001b[39m=\u001b[39m bbox_inches\u001b[39m.\u001b[39mpadded(pad_inches)\n\u001b[1;32m   2352\u001b[0m     \u001b[39m# call adjust_bbox to save only the given area\u001b[39;00m\n\u001b[0;32m-> 2353\u001b[0m     restore_bbox \u001b[39m=\u001b[39m _tight_bbox\u001b[39m.\u001b[39;49madjust_bbox(\n\u001b[1;32m   2354\u001b[0m         \u001b[39mself\u001b[39;49m\u001b[39m.\u001b[39;49mfigure, bbox_inches, \u001b[39mself\u001b[39;49m\u001b[39m.\u001b[39;49mfigure\u001b[39m.\u001b[39;49mcanvas\u001b[39m.\u001b[39;49mfixed_dpi)\n\u001b[1;32m   2356\u001b[0m     _bbox_inches_restore \u001b[39m=\u001b[39m (bbox_inches, restore_bbox)\n\u001b[1;32m   2357\u001b[0m \u001b[39melse\u001b[39;00m:\n",
            "File \u001b[0;32m~/.local/lib/python3.10/site-packages/matplotlib/_tight_bbox.py:28\u001b[0m, in \u001b[0;36madjust_bbox\u001b[0;34m(fig, bbox_inches, fixed_dpi)\u001b[0m\n\u001b[1;32m     26\u001b[0m locator \u001b[39m=\u001b[39m ax\u001b[39m.\u001b[39mget_axes_locator()\n\u001b[1;32m     27\u001b[0m \u001b[39mif\u001b[39;00m locator \u001b[39mis\u001b[39;00m \u001b[39mnot\u001b[39;00m \u001b[39mNone\u001b[39;00m:\n\u001b[0;32m---> 28\u001b[0m     ax\u001b[39m.\u001b[39mapply_aspect(locator(ax, \u001b[39mNone\u001b[39;49;00m))\n\u001b[1;32m     29\u001b[0m locator_list\u001b[39m.\u001b[39mappend(locator)\n\u001b[1;32m     30\u001b[0m current_pos \u001b[39m=\u001b[39m ax\u001b[39m.\u001b[39mget_position(original\u001b[39m=\u001b[39m\u001b[39mFalse\u001b[39;00m)\u001b[39m.\u001b[39mfrozen()\n",
            "File \u001b[0;32m~/.local/lib/python3.10/site-packages/mpl_toolkits/axes_grid1/inset_locator.py:73\u001b[0m, in \u001b[0;36mAnchoredLocatorBase.__call__\u001b[0;34m(self, ax, renderer)\u001b[0m\n\u001b[1;32m     71\u001b[0m \u001b[39mdef\u001b[39;00m \u001b[39m__call__\u001b[39m(\u001b[39mself\u001b[39m, ax, renderer):\n\u001b[1;32m     72\u001b[0m     \u001b[39mself\u001b[39m\u001b[39m.\u001b[39maxes \u001b[39m=\u001b[39m ax\n\u001b[0;32m---> 73\u001b[0m     bbox \u001b[39m=\u001b[39m \u001b[39mself\u001b[39;49m\u001b[39m.\u001b[39;49mget_window_extent(renderer)\n\u001b[1;32m     74\u001b[0m     px, py \u001b[39m=\u001b[39m \u001b[39mself\u001b[39m\u001b[39m.\u001b[39mget_offset(bbox\u001b[39m.\u001b[39mwidth, bbox\u001b[39m.\u001b[39mheight, \u001b[39m0\u001b[39m, \u001b[39m0\u001b[39m, renderer)\n\u001b[1;32m     75\u001b[0m     bbox_canvas \u001b[39m=\u001b[39m Bbox\u001b[39m.\u001b[39mfrom_bounds(px, py, bbox\u001b[39m.\u001b[39mwidth, bbox\u001b[39m.\u001b[39mheight)\n",
            "File \u001b[0;32m~/.local/lib/python3.10/site-packages/matplotlib/offsetbox.py:399\u001b[0m, in \u001b[0;36mOffsetBox.get_window_extent\u001b[0;34m(self, renderer)\u001b[0m\n\u001b[1;32m    396\u001b[0m \u001b[39mdef\u001b[39;00m \u001b[39mget_window_extent\u001b[39m(\u001b[39mself\u001b[39m, renderer\u001b[39m=\u001b[39m\u001b[39mNone\u001b[39;00m):\n\u001b[1;32m    397\u001b[0m     \u001b[39m# docstring inherited\u001b[39;00m\n\u001b[1;32m    398\u001b[0m     \u001b[39mif\u001b[39;00m renderer \u001b[39mis\u001b[39;00m \u001b[39mNone\u001b[39;00m:\n\u001b[0;32m--> 399\u001b[0m         renderer \u001b[39m=\u001b[39m \u001b[39mself\u001b[39;49m\u001b[39m.\u001b[39;49mfigure\u001b[39m.\u001b[39;49m_get_renderer()\n\u001b[1;32m    400\u001b[0m     bbox \u001b[39m=\u001b[39m \u001b[39mself\u001b[39m\u001b[39m.\u001b[39mget_bbox(renderer)\n\u001b[1;32m    401\u001b[0m     \u001b[39mtry\u001b[39;00m:  \u001b[39m# Some subclasses redefine get_offset to take no args.\u001b[39;00m\n",
            "\u001b[0;31mAttributeError\u001b[0m: 'NoneType' object has no attribute '_get_renderer'"
          ]
        },
        {
          "data": {
            "text/plain": [
              "<Figure size 640x300 with 2 Axes>"
            ]
          },
          "metadata": {},
          "output_type": "display_data"
        },
        {
          "name": "stdout",
          "output_type": "stream",
          "text": [
            "Just got epoch 10\n"
          ]
        },
        {
          "ename": "AttributeError",
          "evalue": "'NoneType' object has no attribute '_get_renderer'",
          "output_type": "error",
          "traceback": [
            "\u001b[0;31m---------------------------------------------------------------------------\u001b[0m",
            "\u001b[0;31mAttributeError\u001b[0m                            Traceback (most recent call last)",
            "File \u001b[0;32m~/.local/lib/python3.10/site-packages/IPython/core/formatters.py:340\u001b[0m, in \u001b[0;36mBaseFormatter.__call__\u001b[0;34m(self, obj)\u001b[0m\n\u001b[1;32m    338\u001b[0m     \u001b[39mpass\u001b[39;00m\n\u001b[1;32m    339\u001b[0m \u001b[39melse\u001b[39;00m:\n\u001b[0;32m--> 340\u001b[0m     \u001b[39mreturn\u001b[39;00m printer(obj)\n\u001b[1;32m    341\u001b[0m \u001b[39m# Finally look for special method names\u001b[39;00m\n\u001b[1;32m    342\u001b[0m method \u001b[39m=\u001b[39m get_real_method(obj, \u001b[39mself\u001b[39m\u001b[39m.\u001b[39mprint_method)\n",
            "File \u001b[0;32m~/.local/lib/python3.10/site-packages/IPython/core/pylabtools.py:152\u001b[0m, in \u001b[0;36mprint_figure\u001b[0;34m(fig, fmt, bbox_inches, base64, **kwargs)\u001b[0m\n\u001b[1;32m    149\u001b[0m     \u001b[39mfrom\u001b[39;00m \u001b[39mmatplotlib\u001b[39;00m\u001b[39m.\u001b[39;00m\u001b[39mbackend_bases\u001b[39;00m \u001b[39mimport\u001b[39;00m FigureCanvasBase\n\u001b[1;32m    150\u001b[0m     FigureCanvasBase(fig)\n\u001b[0;32m--> 152\u001b[0m fig\u001b[39m.\u001b[39;49mcanvas\u001b[39m.\u001b[39;49mprint_figure(bytes_io, \u001b[39m*\u001b[39;49m\u001b[39m*\u001b[39;49mkw)\n\u001b[1;32m    153\u001b[0m data \u001b[39m=\u001b[39m bytes_io\u001b[39m.\u001b[39mgetvalue()\n\u001b[1;32m    154\u001b[0m \u001b[39mif\u001b[39;00m fmt \u001b[39m==\u001b[39m \u001b[39m'\u001b[39m\u001b[39msvg\u001b[39m\u001b[39m'\u001b[39m:\n",
            "File \u001b[0;32m~/.local/lib/python3.10/site-packages/matplotlib/backend_bases.py:2353\u001b[0m, in \u001b[0;36mFigureCanvasBase.print_figure\u001b[0;34m(self, filename, dpi, facecolor, edgecolor, orientation, format, bbox_inches, pad_inches, bbox_extra_artists, backend, **kwargs)\u001b[0m\n\u001b[1;32m   2350\u001b[0m         bbox_inches \u001b[39m=\u001b[39m bbox_inches\u001b[39m.\u001b[39mpadded(pad_inches)\n\u001b[1;32m   2352\u001b[0m     \u001b[39m# call adjust_bbox to save only the given area\u001b[39;00m\n\u001b[0;32m-> 2353\u001b[0m     restore_bbox \u001b[39m=\u001b[39m _tight_bbox\u001b[39m.\u001b[39;49madjust_bbox(\n\u001b[1;32m   2354\u001b[0m         \u001b[39mself\u001b[39;49m\u001b[39m.\u001b[39;49mfigure, bbox_inches, \u001b[39mself\u001b[39;49m\u001b[39m.\u001b[39;49mfigure\u001b[39m.\u001b[39;49mcanvas\u001b[39m.\u001b[39;49mfixed_dpi)\n\u001b[1;32m   2356\u001b[0m     _bbox_inches_restore \u001b[39m=\u001b[39m (bbox_inches, restore_bbox)\n\u001b[1;32m   2357\u001b[0m \u001b[39melse\u001b[39;00m:\n",
            "File \u001b[0;32m~/.local/lib/python3.10/site-packages/matplotlib/_tight_bbox.py:28\u001b[0m, in \u001b[0;36madjust_bbox\u001b[0;34m(fig, bbox_inches, fixed_dpi)\u001b[0m\n\u001b[1;32m     26\u001b[0m locator \u001b[39m=\u001b[39m ax\u001b[39m.\u001b[39mget_axes_locator()\n\u001b[1;32m     27\u001b[0m \u001b[39mif\u001b[39;00m locator \u001b[39mis\u001b[39;00m \u001b[39mnot\u001b[39;00m \u001b[39mNone\u001b[39;00m:\n\u001b[0;32m---> 28\u001b[0m     ax\u001b[39m.\u001b[39mapply_aspect(locator(ax, \u001b[39mNone\u001b[39;49;00m))\n\u001b[1;32m     29\u001b[0m locator_list\u001b[39m.\u001b[39mappend(locator)\n\u001b[1;32m     30\u001b[0m current_pos \u001b[39m=\u001b[39m ax\u001b[39m.\u001b[39mget_position(original\u001b[39m=\u001b[39m\u001b[39mFalse\u001b[39;00m)\u001b[39m.\u001b[39mfrozen()\n",
            "File \u001b[0;32m~/.local/lib/python3.10/site-packages/mpl_toolkits/axes_grid1/inset_locator.py:73\u001b[0m, in \u001b[0;36mAnchoredLocatorBase.__call__\u001b[0;34m(self, ax, renderer)\u001b[0m\n\u001b[1;32m     71\u001b[0m \u001b[39mdef\u001b[39;00m \u001b[39m__call__\u001b[39m(\u001b[39mself\u001b[39m, ax, renderer):\n\u001b[1;32m     72\u001b[0m     \u001b[39mself\u001b[39m\u001b[39m.\u001b[39maxes \u001b[39m=\u001b[39m ax\n\u001b[0;32m---> 73\u001b[0m     bbox \u001b[39m=\u001b[39m \u001b[39mself\u001b[39;49m\u001b[39m.\u001b[39;49mget_window_extent(renderer)\n\u001b[1;32m     74\u001b[0m     px, py \u001b[39m=\u001b[39m \u001b[39mself\u001b[39m\u001b[39m.\u001b[39mget_offset(bbox\u001b[39m.\u001b[39mwidth, bbox\u001b[39m.\u001b[39mheight, \u001b[39m0\u001b[39m, \u001b[39m0\u001b[39m, renderer)\n\u001b[1;32m     75\u001b[0m     bbox_canvas \u001b[39m=\u001b[39m Bbox\u001b[39m.\u001b[39mfrom_bounds(px, py, bbox\u001b[39m.\u001b[39mwidth, bbox\u001b[39m.\u001b[39mheight)\n",
            "File \u001b[0;32m~/.local/lib/python3.10/site-packages/matplotlib/offsetbox.py:399\u001b[0m, in \u001b[0;36mOffsetBox.get_window_extent\u001b[0;34m(self, renderer)\u001b[0m\n\u001b[1;32m    396\u001b[0m \u001b[39mdef\u001b[39;00m \u001b[39mget_window_extent\u001b[39m(\u001b[39mself\u001b[39m, renderer\u001b[39m=\u001b[39m\u001b[39mNone\u001b[39;00m):\n\u001b[1;32m    397\u001b[0m     \u001b[39m# docstring inherited\u001b[39;00m\n\u001b[1;32m    398\u001b[0m     \u001b[39mif\u001b[39;00m renderer \u001b[39mis\u001b[39;00m \u001b[39mNone\u001b[39;00m:\n\u001b[0;32m--> 399\u001b[0m         renderer \u001b[39m=\u001b[39m \u001b[39mself\u001b[39;49m\u001b[39m.\u001b[39;49mfigure\u001b[39m.\u001b[39;49m_get_renderer()\n\u001b[1;32m    400\u001b[0m     bbox \u001b[39m=\u001b[39m \u001b[39mself\u001b[39m\u001b[39m.\u001b[39mget_bbox(renderer)\n\u001b[1;32m    401\u001b[0m     \u001b[39mtry\u001b[39;00m:  \u001b[39m# Some subclasses redefine get_offset to take no args.\u001b[39;00m\n",
            "\u001b[0;31mAttributeError\u001b[0m: 'NoneType' object has no attribute '_get_renderer'"
          ]
        },
        {
          "data": {
            "text/plain": [
              "<Figure size 640x300 with 2 Axes>"
            ]
          },
          "metadata": {},
          "output_type": "display_data"
        },
        {
          "name": "stdout",
          "output_type": "stream",
          "text": [
            "Just got epoch 11\n"
          ]
        },
        {
          "ename": "AttributeError",
          "evalue": "'NoneType' object has no attribute '_get_renderer'",
          "output_type": "error",
          "traceback": [
            "\u001b[0;31m---------------------------------------------------------------------------\u001b[0m",
            "\u001b[0;31mAttributeError\u001b[0m                            Traceback (most recent call last)",
            "File \u001b[0;32m~/.local/lib/python3.10/site-packages/IPython/core/formatters.py:340\u001b[0m, in \u001b[0;36mBaseFormatter.__call__\u001b[0;34m(self, obj)\u001b[0m\n\u001b[1;32m    338\u001b[0m     \u001b[39mpass\u001b[39;00m\n\u001b[1;32m    339\u001b[0m \u001b[39melse\u001b[39;00m:\n\u001b[0;32m--> 340\u001b[0m     \u001b[39mreturn\u001b[39;00m printer(obj)\n\u001b[1;32m    341\u001b[0m \u001b[39m# Finally look for special method names\u001b[39;00m\n\u001b[1;32m    342\u001b[0m method \u001b[39m=\u001b[39m get_real_method(obj, \u001b[39mself\u001b[39m\u001b[39m.\u001b[39mprint_method)\n",
            "File \u001b[0;32m~/.local/lib/python3.10/site-packages/IPython/core/pylabtools.py:152\u001b[0m, in \u001b[0;36mprint_figure\u001b[0;34m(fig, fmt, bbox_inches, base64, **kwargs)\u001b[0m\n\u001b[1;32m    149\u001b[0m     \u001b[39mfrom\u001b[39;00m \u001b[39mmatplotlib\u001b[39;00m\u001b[39m.\u001b[39;00m\u001b[39mbackend_bases\u001b[39;00m \u001b[39mimport\u001b[39;00m FigureCanvasBase\n\u001b[1;32m    150\u001b[0m     FigureCanvasBase(fig)\n\u001b[0;32m--> 152\u001b[0m fig\u001b[39m.\u001b[39;49mcanvas\u001b[39m.\u001b[39;49mprint_figure(bytes_io, \u001b[39m*\u001b[39;49m\u001b[39m*\u001b[39;49mkw)\n\u001b[1;32m    153\u001b[0m data \u001b[39m=\u001b[39m bytes_io\u001b[39m.\u001b[39mgetvalue()\n\u001b[1;32m    154\u001b[0m \u001b[39mif\u001b[39;00m fmt \u001b[39m==\u001b[39m \u001b[39m'\u001b[39m\u001b[39msvg\u001b[39m\u001b[39m'\u001b[39m:\n",
            "File \u001b[0;32m~/.local/lib/python3.10/site-packages/matplotlib/backend_bases.py:2353\u001b[0m, in \u001b[0;36mFigureCanvasBase.print_figure\u001b[0;34m(self, filename, dpi, facecolor, edgecolor, orientation, format, bbox_inches, pad_inches, bbox_extra_artists, backend, **kwargs)\u001b[0m\n\u001b[1;32m   2350\u001b[0m         bbox_inches \u001b[39m=\u001b[39m bbox_inches\u001b[39m.\u001b[39mpadded(pad_inches)\n\u001b[1;32m   2352\u001b[0m     \u001b[39m# call adjust_bbox to save only the given area\u001b[39;00m\n\u001b[0;32m-> 2353\u001b[0m     restore_bbox \u001b[39m=\u001b[39m _tight_bbox\u001b[39m.\u001b[39;49madjust_bbox(\n\u001b[1;32m   2354\u001b[0m         \u001b[39mself\u001b[39;49m\u001b[39m.\u001b[39;49mfigure, bbox_inches, \u001b[39mself\u001b[39;49m\u001b[39m.\u001b[39;49mfigure\u001b[39m.\u001b[39;49mcanvas\u001b[39m.\u001b[39;49mfixed_dpi)\n\u001b[1;32m   2356\u001b[0m     _bbox_inches_restore \u001b[39m=\u001b[39m (bbox_inches, restore_bbox)\n\u001b[1;32m   2357\u001b[0m \u001b[39melse\u001b[39;00m:\n",
            "File \u001b[0;32m~/.local/lib/python3.10/site-packages/matplotlib/_tight_bbox.py:28\u001b[0m, in \u001b[0;36madjust_bbox\u001b[0;34m(fig, bbox_inches, fixed_dpi)\u001b[0m\n\u001b[1;32m     26\u001b[0m locator \u001b[39m=\u001b[39m ax\u001b[39m.\u001b[39mget_axes_locator()\n\u001b[1;32m     27\u001b[0m \u001b[39mif\u001b[39;00m locator \u001b[39mis\u001b[39;00m \u001b[39mnot\u001b[39;00m \u001b[39mNone\u001b[39;00m:\n\u001b[0;32m---> 28\u001b[0m     ax\u001b[39m.\u001b[39mapply_aspect(locator(ax, \u001b[39mNone\u001b[39;49;00m))\n\u001b[1;32m     29\u001b[0m locator_list\u001b[39m.\u001b[39mappend(locator)\n\u001b[1;32m     30\u001b[0m current_pos \u001b[39m=\u001b[39m ax\u001b[39m.\u001b[39mget_position(original\u001b[39m=\u001b[39m\u001b[39mFalse\u001b[39;00m)\u001b[39m.\u001b[39mfrozen()\n",
            "File \u001b[0;32m~/.local/lib/python3.10/site-packages/mpl_toolkits/axes_grid1/inset_locator.py:73\u001b[0m, in \u001b[0;36mAnchoredLocatorBase.__call__\u001b[0;34m(self, ax, renderer)\u001b[0m\n\u001b[1;32m     71\u001b[0m \u001b[39mdef\u001b[39;00m \u001b[39m__call__\u001b[39m(\u001b[39mself\u001b[39m, ax, renderer):\n\u001b[1;32m     72\u001b[0m     \u001b[39mself\u001b[39m\u001b[39m.\u001b[39maxes \u001b[39m=\u001b[39m ax\n\u001b[0;32m---> 73\u001b[0m     bbox \u001b[39m=\u001b[39m \u001b[39mself\u001b[39;49m\u001b[39m.\u001b[39;49mget_window_extent(renderer)\n\u001b[1;32m     74\u001b[0m     px, py \u001b[39m=\u001b[39m \u001b[39mself\u001b[39m\u001b[39m.\u001b[39mget_offset(bbox\u001b[39m.\u001b[39mwidth, bbox\u001b[39m.\u001b[39mheight, \u001b[39m0\u001b[39m, \u001b[39m0\u001b[39m, renderer)\n\u001b[1;32m     75\u001b[0m     bbox_canvas \u001b[39m=\u001b[39m Bbox\u001b[39m.\u001b[39mfrom_bounds(px, py, bbox\u001b[39m.\u001b[39mwidth, bbox\u001b[39m.\u001b[39mheight)\n",
            "File \u001b[0;32m~/.local/lib/python3.10/site-packages/matplotlib/offsetbox.py:399\u001b[0m, in \u001b[0;36mOffsetBox.get_window_extent\u001b[0;34m(self, renderer)\u001b[0m\n\u001b[1;32m    396\u001b[0m \u001b[39mdef\u001b[39;00m \u001b[39mget_window_extent\u001b[39m(\u001b[39mself\u001b[39m, renderer\u001b[39m=\u001b[39m\u001b[39mNone\u001b[39;00m):\n\u001b[1;32m    397\u001b[0m     \u001b[39m# docstring inherited\u001b[39;00m\n\u001b[1;32m    398\u001b[0m     \u001b[39mif\u001b[39;00m renderer \u001b[39mis\u001b[39;00m \u001b[39mNone\u001b[39;00m:\n\u001b[0;32m--> 399\u001b[0m         renderer \u001b[39m=\u001b[39m \u001b[39mself\u001b[39;49m\u001b[39m.\u001b[39;49mfigure\u001b[39m.\u001b[39;49m_get_renderer()\n\u001b[1;32m    400\u001b[0m     bbox \u001b[39m=\u001b[39m \u001b[39mself\u001b[39m\u001b[39m.\u001b[39mget_bbox(renderer)\n\u001b[1;32m    401\u001b[0m     \u001b[39mtry\u001b[39;00m:  \u001b[39m# Some subclasses redefine get_offset to take no args.\u001b[39;00m\n",
            "\u001b[0;31mAttributeError\u001b[0m: 'NoneType' object has no attribute '_get_renderer'"
          ]
        },
        {
          "data": {
            "text/plain": [
              "<Figure size 640x300 with 2 Axes>"
            ]
          },
          "metadata": {},
          "output_type": "display_data"
        },
        {
          "name": "stdout",
          "output_type": "stream",
          "text": [
            "Just got epoch 12\n"
          ]
        },
        {
          "ename": "AttributeError",
          "evalue": "'NoneType' object has no attribute '_get_renderer'",
          "output_type": "error",
          "traceback": [
            "\u001b[0;31m---------------------------------------------------------------------------\u001b[0m",
            "\u001b[0;31mAttributeError\u001b[0m                            Traceback (most recent call last)",
            "File \u001b[0;32m~/.local/lib/python3.10/site-packages/IPython/core/formatters.py:340\u001b[0m, in \u001b[0;36mBaseFormatter.__call__\u001b[0;34m(self, obj)\u001b[0m\n\u001b[1;32m    338\u001b[0m     \u001b[39mpass\u001b[39;00m\n\u001b[1;32m    339\u001b[0m \u001b[39melse\u001b[39;00m:\n\u001b[0;32m--> 340\u001b[0m     \u001b[39mreturn\u001b[39;00m printer(obj)\n\u001b[1;32m    341\u001b[0m \u001b[39m# Finally look for special method names\u001b[39;00m\n\u001b[1;32m    342\u001b[0m method \u001b[39m=\u001b[39m get_real_method(obj, \u001b[39mself\u001b[39m\u001b[39m.\u001b[39mprint_method)\n",
            "File \u001b[0;32m~/.local/lib/python3.10/site-packages/IPython/core/pylabtools.py:152\u001b[0m, in \u001b[0;36mprint_figure\u001b[0;34m(fig, fmt, bbox_inches, base64, **kwargs)\u001b[0m\n\u001b[1;32m    149\u001b[0m     \u001b[39mfrom\u001b[39;00m \u001b[39mmatplotlib\u001b[39;00m\u001b[39m.\u001b[39;00m\u001b[39mbackend_bases\u001b[39;00m \u001b[39mimport\u001b[39;00m FigureCanvasBase\n\u001b[1;32m    150\u001b[0m     FigureCanvasBase(fig)\n\u001b[0;32m--> 152\u001b[0m fig\u001b[39m.\u001b[39;49mcanvas\u001b[39m.\u001b[39;49mprint_figure(bytes_io, \u001b[39m*\u001b[39;49m\u001b[39m*\u001b[39;49mkw)\n\u001b[1;32m    153\u001b[0m data \u001b[39m=\u001b[39m bytes_io\u001b[39m.\u001b[39mgetvalue()\n\u001b[1;32m    154\u001b[0m \u001b[39mif\u001b[39;00m fmt \u001b[39m==\u001b[39m \u001b[39m'\u001b[39m\u001b[39msvg\u001b[39m\u001b[39m'\u001b[39m:\n",
            "File \u001b[0;32m~/.local/lib/python3.10/site-packages/matplotlib/backend_bases.py:2353\u001b[0m, in \u001b[0;36mFigureCanvasBase.print_figure\u001b[0;34m(self, filename, dpi, facecolor, edgecolor, orientation, format, bbox_inches, pad_inches, bbox_extra_artists, backend, **kwargs)\u001b[0m\n\u001b[1;32m   2350\u001b[0m         bbox_inches \u001b[39m=\u001b[39m bbox_inches\u001b[39m.\u001b[39mpadded(pad_inches)\n\u001b[1;32m   2352\u001b[0m     \u001b[39m# call adjust_bbox to save only the given area\u001b[39;00m\n\u001b[0;32m-> 2353\u001b[0m     restore_bbox \u001b[39m=\u001b[39m _tight_bbox\u001b[39m.\u001b[39;49madjust_bbox(\n\u001b[1;32m   2354\u001b[0m         \u001b[39mself\u001b[39;49m\u001b[39m.\u001b[39;49mfigure, bbox_inches, \u001b[39mself\u001b[39;49m\u001b[39m.\u001b[39;49mfigure\u001b[39m.\u001b[39;49mcanvas\u001b[39m.\u001b[39;49mfixed_dpi)\n\u001b[1;32m   2356\u001b[0m     _bbox_inches_restore \u001b[39m=\u001b[39m (bbox_inches, restore_bbox)\n\u001b[1;32m   2357\u001b[0m \u001b[39melse\u001b[39;00m:\n",
            "File \u001b[0;32m~/.local/lib/python3.10/site-packages/matplotlib/_tight_bbox.py:28\u001b[0m, in \u001b[0;36madjust_bbox\u001b[0;34m(fig, bbox_inches, fixed_dpi)\u001b[0m\n\u001b[1;32m     26\u001b[0m locator \u001b[39m=\u001b[39m ax\u001b[39m.\u001b[39mget_axes_locator()\n\u001b[1;32m     27\u001b[0m \u001b[39mif\u001b[39;00m locator \u001b[39mis\u001b[39;00m \u001b[39mnot\u001b[39;00m \u001b[39mNone\u001b[39;00m:\n\u001b[0;32m---> 28\u001b[0m     ax\u001b[39m.\u001b[39mapply_aspect(locator(ax, \u001b[39mNone\u001b[39;49;00m))\n\u001b[1;32m     29\u001b[0m locator_list\u001b[39m.\u001b[39mappend(locator)\n\u001b[1;32m     30\u001b[0m current_pos \u001b[39m=\u001b[39m ax\u001b[39m.\u001b[39mget_position(original\u001b[39m=\u001b[39m\u001b[39mFalse\u001b[39;00m)\u001b[39m.\u001b[39mfrozen()\n",
            "File \u001b[0;32m~/.local/lib/python3.10/site-packages/mpl_toolkits/axes_grid1/inset_locator.py:73\u001b[0m, in \u001b[0;36mAnchoredLocatorBase.__call__\u001b[0;34m(self, ax, renderer)\u001b[0m\n\u001b[1;32m     71\u001b[0m \u001b[39mdef\u001b[39;00m \u001b[39m__call__\u001b[39m(\u001b[39mself\u001b[39m, ax, renderer):\n\u001b[1;32m     72\u001b[0m     \u001b[39mself\u001b[39m\u001b[39m.\u001b[39maxes \u001b[39m=\u001b[39m ax\n\u001b[0;32m---> 73\u001b[0m     bbox \u001b[39m=\u001b[39m \u001b[39mself\u001b[39;49m\u001b[39m.\u001b[39;49mget_window_extent(renderer)\n\u001b[1;32m     74\u001b[0m     px, py \u001b[39m=\u001b[39m \u001b[39mself\u001b[39m\u001b[39m.\u001b[39mget_offset(bbox\u001b[39m.\u001b[39mwidth, bbox\u001b[39m.\u001b[39mheight, \u001b[39m0\u001b[39m, \u001b[39m0\u001b[39m, renderer)\n\u001b[1;32m     75\u001b[0m     bbox_canvas \u001b[39m=\u001b[39m Bbox\u001b[39m.\u001b[39mfrom_bounds(px, py, bbox\u001b[39m.\u001b[39mwidth, bbox\u001b[39m.\u001b[39mheight)\n",
            "File \u001b[0;32m~/.local/lib/python3.10/site-packages/matplotlib/offsetbox.py:399\u001b[0m, in \u001b[0;36mOffsetBox.get_window_extent\u001b[0;34m(self, renderer)\u001b[0m\n\u001b[1;32m    396\u001b[0m \u001b[39mdef\u001b[39;00m \u001b[39mget_window_extent\u001b[39m(\u001b[39mself\u001b[39m, renderer\u001b[39m=\u001b[39m\u001b[39mNone\u001b[39;00m):\n\u001b[1;32m    397\u001b[0m     \u001b[39m# docstring inherited\u001b[39;00m\n\u001b[1;32m    398\u001b[0m     \u001b[39mif\u001b[39;00m renderer \u001b[39mis\u001b[39;00m \u001b[39mNone\u001b[39;00m:\n\u001b[0;32m--> 399\u001b[0m         renderer \u001b[39m=\u001b[39m \u001b[39mself\u001b[39;49m\u001b[39m.\u001b[39;49mfigure\u001b[39m.\u001b[39;49m_get_renderer()\n\u001b[1;32m    400\u001b[0m     bbox \u001b[39m=\u001b[39m \u001b[39mself\u001b[39m\u001b[39m.\u001b[39mget_bbox(renderer)\n\u001b[1;32m    401\u001b[0m     \u001b[39mtry\u001b[39;00m:  \u001b[39m# Some subclasses redefine get_offset to take no args.\u001b[39;00m\n",
            "\u001b[0;31mAttributeError\u001b[0m: 'NoneType' object has no attribute '_get_renderer'"
          ]
        },
        {
          "data": {
            "text/plain": [
              "<Figure size 640x300 with 2 Axes>"
            ]
          },
          "metadata": {},
          "output_type": "display_data"
        },
        {
          "name": "stdout",
          "output_type": "stream",
          "text": [
            "Just got epoch 13\n"
          ]
        },
        {
          "ename": "AttributeError",
          "evalue": "'NoneType' object has no attribute '_get_renderer'",
          "output_type": "error",
          "traceback": [
            "\u001b[0;31m---------------------------------------------------------------------------\u001b[0m",
            "\u001b[0;31mAttributeError\u001b[0m                            Traceback (most recent call last)",
            "File \u001b[0;32m~/.local/lib/python3.10/site-packages/IPython/core/formatters.py:340\u001b[0m, in \u001b[0;36mBaseFormatter.__call__\u001b[0;34m(self, obj)\u001b[0m\n\u001b[1;32m    338\u001b[0m     \u001b[39mpass\u001b[39;00m\n\u001b[1;32m    339\u001b[0m \u001b[39melse\u001b[39;00m:\n\u001b[0;32m--> 340\u001b[0m     \u001b[39mreturn\u001b[39;00m printer(obj)\n\u001b[1;32m    341\u001b[0m \u001b[39m# Finally look for special method names\u001b[39;00m\n\u001b[1;32m    342\u001b[0m method \u001b[39m=\u001b[39m get_real_method(obj, \u001b[39mself\u001b[39m\u001b[39m.\u001b[39mprint_method)\n",
            "File \u001b[0;32m~/.local/lib/python3.10/site-packages/IPython/core/pylabtools.py:152\u001b[0m, in \u001b[0;36mprint_figure\u001b[0;34m(fig, fmt, bbox_inches, base64, **kwargs)\u001b[0m\n\u001b[1;32m    149\u001b[0m     \u001b[39mfrom\u001b[39;00m \u001b[39mmatplotlib\u001b[39;00m\u001b[39m.\u001b[39;00m\u001b[39mbackend_bases\u001b[39;00m \u001b[39mimport\u001b[39;00m FigureCanvasBase\n\u001b[1;32m    150\u001b[0m     FigureCanvasBase(fig)\n\u001b[0;32m--> 152\u001b[0m fig\u001b[39m.\u001b[39;49mcanvas\u001b[39m.\u001b[39;49mprint_figure(bytes_io, \u001b[39m*\u001b[39;49m\u001b[39m*\u001b[39;49mkw)\n\u001b[1;32m    153\u001b[0m data \u001b[39m=\u001b[39m bytes_io\u001b[39m.\u001b[39mgetvalue()\n\u001b[1;32m    154\u001b[0m \u001b[39mif\u001b[39;00m fmt \u001b[39m==\u001b[39m \u001b[39m'\u001b[39m\u001b[39msvg\u001b[39m\u001b[39m'\u001b[39m:\n",
            "File \u001b[0;32m~/.local/lib/python3.10/site-packages/matplotlib/backend_bases.py:2353\u001b[0m, in \u001b[0;36mFigureCanvasBase.print_figure\u001b[0;34m(self, filename, dpi, facecolor, edgecolor, orientation, format, bbox_inches, pad_inches, bbox_extra_artists, backend, **kwargs)\u001b[0m\n\u001b[1;32m   2350\u001b[0m         bbox_inches \u001b[39m=\u001b[39m bbox_inches\u001b[39m.\u001b[39mpadded(pad_inches)\n\u001b[1;32m   2352\u001b[0m     \u001b[39m# call adjust_bbox to save only the given area\u001b[39;00m\n\u001b[0;32m-> 2353\u001b[0m     restore_bbox \u001b[39m=\u001b[39m _tight_bbox\u001b[39m.\u001b[39;49madjust_bbox(\n\u001b[1;32m   2354\u001b[0m         \u001b[39mself\u001b[39;49m\u001b[39m.\u001b[39;49mfigure, bbox_inches, \u001b[39mself\u001b[39;49m\u001b[39m.\u001b[39;49mfigure\u001b[39m.\u001b[39;49mcanvas\u001b[39m.\u001b[39;49mfixed_dpi)\n\u001b[1;32m   2356\u001b[0m     _bbox_inches_restore \u001b[39m=\u001b[39m (bbox_inches, restore_bbox)\n\u001b[1;32m   2357\u001b[0m \u001b[39melse\u001b[39;00m:\n",
            "File \u001b[0;32m~/.local/lib/python3.10/site-packages/matplotlib/_tight_bbox.py:28\u001b[0m, in \u001b[0;36madjust_bbox\u001b[0;34m(fig, bbox_inches, fixed_dpi)\u001b[0m\n\u001b[1;32m     26\u001b[0m locator \u001b[39m=\u001b[39m ax\u001b[39m.\u001b[39mget_axes_locator()\n\u001b[1;32m     27\u001b[0m \u001b[39mif\u001b[39;00m locator \u001b[39mis\u001b[39;00m \u001b[39mnot\u001b[39;00m \u001b[39mNone\u001b[39;00m:\n\u001b[0;32m---> 28\u001b[0m     ax\u001b[39m.\u001b[39mapply_aspect(locator(ax, \u001b[39mNone\u001b[39;49;00m))\n\u001b[1;32m     29\u001b[0m locator_list\u001b[39m.\u001b[39mappend(locator)\n\u001b[1;32m     30\u001b[0m current_pos \u001b[39m=\u001b[39m ax\u001b[39m.\u001b[39mget_position(original\u001b[39m=\u001b[39m\u001b[39mFalse\u001b[39;00m)\u001b[39m.\u001b[39mfrozen()\n",
            "File \u001b[0;32m~/.local/lib/python3.10/site-packages/mpl_toolkits/axes_grid1/inset_locator.py:73\u001b[0m, in \u001b[0;36mAnchoredLocatorBase.__call__\u001b[0;34m(self, ax, renderer)\u001b[0m\n\u001b[1;32m     71\u001b[0m \u001b[39mdef\u001b[39;00m \u001b[39m__call__\u001b[39m(\u001b[39mself\u001b[39m, ax, renderer):\n\u001b[1;32m     72\u001b[0m     \u001b[39mself\u001b[39m\u001b[39m.\u001b[39maxes \u001b[39m=\u001b[39m ax\n\u001b[0;32m---> 73\u001b[0m     bbox \u001b[39m=\u001b[39m \u001b[39mself\u001b[39;49m\u001b[39m.\u001b[39;49mget_window_extent(renderer)\n\u001b[1;32m     74\u001b[0m     px, py \u001b[39m=\u001b[39m \u001b[39mself\u001b[39m\u001b[39m.\u001b[39mget_offset(bbox\u001b[39m.\u001b[39mwidth, bbox\u001b[39m.\u001b[39mheight, \u001b[39m0\u001b[39m, \u001b[39m0\u001b[39m, renderer)\n\u001b[1;32m     75\u001b[0m     bbox_canvas \u001b[39m=\u001b[39m Bbox\u001b[39m.\u001b[39mfrom_bounds(px, py, bbox\u001b[39m.\u001b[39mwidth, bbox\u001b[39m.\u001b[39mheight)\n",
            "File \u001b[0;32m~/.local/lib/python3.10/site-packages/matplotlib/offsetbox.py:399\u001b[0m, in \u001b[0;36mOffsetBox.get_window_extent\u001b[0;34m(self, renderer)\u001b[0m\n\u001b[1;32m    396\u001b[0m \u001b[39mdef\u001b[39;00m \u001b[39mget_window_extent\u001b[39m(\u001b[39mself\u001b[39m, renderer\u001b[39m=\u001b[39m\u001b[39mNone\u001b[39;00m):\n\u001b[1;32m    397\u001b[0m     \u001b[39m# docstring inherited\u001b[39;00m\n\u001b[1;32m    398\u001b[0m     \u001b[39mif\u001b[39;00m renderer \u001b[39mis\u001b[39;00m \u001b[39mNone\u001b[39;00m:\n\u001b[0;32m--> 399\u001b[0m         renderer \u001b[39m=\u001b[39m \u001b[39mself\u001b[39;49m\u001b[39m.\u001b[39;49mfigure\u001b[39m.\u001b[39;49m_get_renderer()\n\u001b[1;32m    400\u001b[0m     bbox \u001b[39m=\u001b[39m \u001b[39mself\u001b[39m\u001b[39m.\u001b[39mget_bbox(renderer)\n\u001b[1;32m    401\u001b[0m     \u001b[39mtry\u001b[39;00m:  \u001b[39m# Some subclasses redefine get_offset to take no args.\u001b[39;00m\n",
            "\u001b[0;31mAttributeError\u001b[0m: 'NoneType' object has no attribute '_get_renderer'"
          ]
        },
        {
          "data": {
            "text/plain": [
              "<Figure size 640x300 with 2 Axes>"
            ]
          },
          "metadata": {},
          "output_type": "display_data"
        },
        {
          "name": "stdout",
          "output_type": "stream",
          "text": [
            "Just got epoch 14\n"
          ]
        },
        {
          "ename": "AttributeError",
          "evalue": "'NoneType' object has no attribute '_get_renderer'",
          "output_type": "error",
          "traceback": [
            "\u001b[0;31m---------------------------------------------------------------------------\u001b[0m",
            "\u001b[0;31mAttributeError\u001b[0m                            Traceback (most recent call last)",
            "File \u001b[0;32m~/.local/lib/python3.10/site-packages/IPython/core/formatters.py:340\u001b[0m, in \u001b[0;36mBaseFormatter.__call__\u001b[0;34m(self, obj)\u001b[0m\n\u001b[1;32m    338\u001b[0m     \u001b[39mpass\u001b[39;00m\n\u001b[1;32m    339\u001b[0m \u001b[39melse\u001b[39;00m:\n\u001b[0;32m--> 340\u001b[0m     \u001b[39mreturn\u001b[39;00m printer(obj)\n\u001b[1;32m    341\u001b[0m \u001b[39m# Finally look for special method names\u001b[39;00m\n\u001b[1;32m    342\u001b[0m method \u001b[39m=\u001b[39m get_real_method(obj, \u001b[39mself\u001b[39m\u001b[39m.\u001b[39mprint_method)\n",
            "File \u001b[0;32m~/.local/lib/python3.10/site-packages/IPython/core/pylabtools.py:152\u001b[0m, in \u001b[0;36mprint_figure\u001b[0;34m(fig, fmt, bbox_inches, base64, **kwargs)\u001b[0m\n\u001b[1;32m    149\u001b[0m     \u001b[39mfrom\u001b[39;00m \u001b[39mmatplotlib\u001b[39;00m\u001b[39m.\u001b[39;00m\u001b[39mbackend_bases\u001b[39;00m \u001b[39mimport\u001b[39;00m FigureCanvasBase\n\u001b[1;32m    150\u001b[0m     FigureCanvasBase(fig)\n\u001b[0;32m--> 152\u001b[0m fig\u001b[39m.\u001b[39;49mcanvas\u001b[39m.\u001b[39;49mprint_figure(bytes_io, \u001b[39m*\u001b[39;49m\u001b[39m*\u001b[39;49mkw)\n\u001b[1;32m    153\u001b[0m data \u001b[39m=\u001b[39m bytes_io\u001b[39m.\u001b[39mgetvalue()\n\u001b[1;32m    154\u001b[0m \u001b[39mif\u001b[39;00m fmt \u001b[39m==\u001b[39m \u001b[39m'\u001b[39m\u001b[39msvg\u001b[39m\u001b[39m'\u001b[39m:\n",
            "File \u001b[0;32m~/.local/lib/python3.10/site-packages/matplotlib/backend_bases.py:2353\u001b[0m, in \u001b[0;36mFigureCanvasBase.print_figure\u001b[0;34m(self, filename, dpi, facecolor, edgecolor, orientation, format, bbox_inches, pad_inches, bbox_extra_artists, backend, **kwargs)\u001b[0m\n\u001b[1;32m   2350\u001b[0m         bbox_inches \u001b[39m=\u001b[39m bbox_inches\u001b[39m.\u001b[39mpadded(pad_inches)\n\u001b[1;32m   2352\u001b[0m     \u001b[39m# call adjust_bbox to save only the given area\u001b[39;00m\n\u001b[0;32m-> 2353\u001b[0m     restore_bbox \u001b[39m=\u001b[39m _tight_bbox\u001b[39m.\u001b[39;49madjust_bbox(\n\u001b[1;32m   2354\u001b[0m         \u001b[39mself\u001b[39;49m\u001b[39m.\u001b[39;49mfigure, bbox_inches, \u001b[39mself\u001b[39;49m\u001b[39m.\u001b[39;49mfigure\u001b[39m.\u001b[39;49mcanvas\u001b[39m.\u001b[39;49mfixed_dpi)\n\u001b[1;32m   2356\u001b[0m     _bbox_inches_restore \u001b[39m=\u001b[39m (bbox_inches, restore_bbox)\n\u001b[1;32m   2357\u001b[0m \u001b[39melse\u001b[39;00m:\n",
            "File \u001b[0;32m~/.local/lib/python3.10/site-packages/matplotlib/_tight_bbox.py:28\u001b[0m, in \u001b[0;36madjust_bbox\u001b[0;34m(fig, bbox_inches, fixed_dpi)\u001b[0m\n\u001b[1;32m     26\u001b[0m locator \u001b[39m=\u001b[39m ax\u001b[39m.\u001b[39mget_axes_locator()\n\u001b[1;32m     27\u001b[0m \u001b[39mif\u001b[39;00m locator \u001b[39mis\u001b[39;00m \u001b[39mnot\u001b[39;00m \u001b[39mNone\u001b[39;00m:\n\u001b[0;32m---> 28\u001b[0m     ax\u001b[39m.\u001b[39mapply_aspect(locator(ax, \u001b[39mNone\u001b[39;49;00m))\n\u001b[1;32m     29\u001b[0m locator_list\u001b[39m.\u001b[39mappend(locator)\n\u001b[1;32m     30\u001b[0m current_pos \u001b[39m=\u001b[39m ax\u001b[39m.\u001b[39mget_position(original\u001b[39m=\u001b[39m\u001b[39mFalse\u001b[39;00m)\u001b[39m.\u001b[39mfrozen()\n",
            "File \u001b[0;32m~/.local/lib/python3.10/site-packages/mpl_toolkits/axes_grid1/inset_locator.py:73\u001b[0m, in \u001b[0;36mAnchoredLocatorBase.__call__\u001b[0;34m(self, ax, renderer)\u001b[0m\n\u001b[1;32m     71\u001b[0m \u001b[39mdef\u001b[39;00m \u001b[39m__call__\u001b[39m(\u001b[39mself\u001b[39m, ax, renderer):\n\u001b[1;32m     72\u001b[0m     \u001b[39mself\u001b[39m\u001b[39m.\u001b[39maxes \u001b[39m=\u001b[39m ax\n\u001b[0;32m---> 73\u001b[0m     bbox \u001b[39m=\u001b[39m \u001b[39mself\u001b[39;49m\u001b[39m.\u001b[39;49mget_window_extent(renderer)\n\u001b[1;32m     74\u001b[0m     px, py \u001b[39m=\u001b[39m \u001b[39mself\u001b[39m\u001b[39m.\u001b[39mget_offset(bbox\u001b[39m.\u001b[39mwidth, bbox\u001b[39m.\u001b[39mheight, \u001b[39m0\u001b[39m, \u001b[39m0\u001b[39m, renderer)\n\u001b[1;32m     75\u001b[0m     bbox_canvas \u001b[39m=\u001b[39m Bbox\u001b[39m.\u001b[39mfrom_bounds(px, py, bbox\u001b[39m.\u001b[39mwidth, bbox\u001b[39m.\u001b[39mheight)\n",
            "File \u001b[0;32m~/.local/lib/python3.10/site-packages/matplotlib/offsetbox.py:399\u001b[0m, in \u001b[0;36mOffsetBox.get_window_extent\u001b[0;34m(self, renderer)\u001b[0m\n\u001b[1;32m    396\u001b[0m \u001b[39mdef\u001b[39;00m \u001b[39mget_window_extent\u001b[39m(\u001b[39mself\u001b[39m, renderer\u001b[39m=\u001b[39m\u001b[39mNone\u001b[39;00m):\n\u001b[1;32m    397\u001b[0m     \u001b[39m# docstring inherited\u001b[39;00m\n\u001b[1;32m    398\u001b[0m     \u001b[39mif\u001b[39;00m renderer \u001b[39mis\u001b[39;00m \u001b[39mNone\u001b[39;00m:\n\u001b[0;32m--> 399\u001b[0m         renderer \u001b[39m=\u001b[39m \u001b[39mself\u001b[39;49m\u001b[39m.\u001b[39;49mfigure\u001b[39m.\u001b[39;49m_get_renderer()\n\u001b[1;32m    400\u001b[0m     bbox \u001b[39m=\u001b[39m \u001b[39mself\u001b[39m\u001b[39m.\u001b[39mget_bbox(renderer)\n\u001b[1;32m    401\u001b[0m     \u001b[39mtry\u001b[39;00m:  \u001b[39m# Some subclasses redefine get_offset to take no args.\u001b[39;00m\n",
            "\u001b[0;31mAttributeError\u001b[0m: 'NoneType' object has no attribute '_get_renderer'"
          ]
        },
        {
          "data": {
            "text/plain": [
              "<Figure size 640x300 with 2 Axes>"
            ]
          },
          "metadata": {},
          "output_type": "display_data"
        },
        {
          "name": "stdout",
          "output_type": "stream",
          "text": [
            "Just got epoch 15\n"
          ]
        },
        {
          "ename": "AttributeError",
          "evalue": "'NoneType' object has no attribute '_get_renderer'",
          "output_type": "error",
          "traceback": [
            "\u001b[0;31m---------------------------------------------------------------------------\u001b[0m",
            "\u001b[0;31mAttributeError\u001b[0m                            Traceback (most recent call last)",
            "File \u001b[0;32m~/.local/lib/python3.10/site-packages/IPython/core/formatters.py:340\u001b[0m, in \u001b[0;36mBaseFormatter.__call__\u001b[0;34m(self, obj)\u001b[0m\n\u001b[1;32m    338\u001b[0m     \u001b[39mpass\u001b[39;00m\n\u001b[1;32m    339\u001b[0m \u001b[39melse\u001b[39;00m:\n\u001b[0;32m--> 340\u001b[0m     \u001b[39mreturn\u001b[39;00m printer(obj)\n\u001b[1;32m    341\u001b[0m \u001b[39m# Finally look for special method names\u001b[39;00m\n\u001b[1;32m    342\u001b[0m method \u001b[39m=\u001b[39m get_real_method(obj, \u001b[39mself\u001b[39m\u001b[39m.\u001b[39mprint_method)\n",
            "File \u001b[0;32m~/.local/lib/python3.10/site-packages/IPython/core/pylabtools.py:152\u001b[0m, in \u001b[0;36mprint_figure\u001b[0;34m(fig, fmt, bbox_inches, base64, **kwargs)\u001b[0m\n\u001b[1;32m    149\u001b[0m     \u001b[39mfrom\u001b[39;00m \u001b[39mmatplotlib\u001b[39;00m\u001b[39m.\u001b[39;00m\u001b[39mbackend_bases\u001b[39;00m \u001b[39mimport\u001b[39;00m FigureCanvasBase\n\u001b[1;32m    150\u001b[0m     FigureCanvasBase(fig)\n\u001b[0;32m--> 152\u001b[0m fig\u001b[39m.\u001b[39;49mcanvas\u001b[39m.\u001b[39;49mprint_figure(bytes_io, \u001b[39m*\u001b[39;49m\u001b[39m*\u001b[39;49mkw)\n\u001b[1;32m    153\u001b[0m data \u001b[39m=\u001b[39m bytes_io\u001b[39m.\u001b[39mgetvalue()\n\u001b[1;32m    154\u001b[0m \u001b[39mif\u001b[39;00m fmt \u001b[39m==\u001b[39m \u001b[39m'\u001b[39m\u001b[39msvg\u001b[39m\u001b[39m'\u001b[39m:\n",
            "File \u001b[0;32m~/.local/lib/python3.10/site-packages/matplotlib/backend_bases.py:2353\u001b[0m, in \u001b[0;36mFigureCanvasBase.print_figure\u001b[0;34m(self, filename, dpi, facecolor, edgecolor, orientation, format, bbox_inches, pad_inches, bbox_extra_artists, backend, **kwargs)\u001b[0m\n\u001b[1;32m   2350\u001b[0m         bbox_inches \u001b[39m=\u001b[39m bbox_inches\u001b[39m.\u001b[39mpadded(pad_inches)\n\u001b[1;32m   2352\u001b[0m     \u001b[39m# call adjust_bbox to save only the given area\u001b[39;00m\n\u001b[0;32m-> 2353\u001b[0m     restore_bbox \u001b[39m=\u001b[39m _tight_bbox\u001b[39m.\u001b[39;49madjust_bbox(\n\u001b[1;32m   2354\u001b[0m         \u001b[39mself\u001b[39;49m\u001b[39m.\u001b[39;49mfigure, bbox_inches, \u001b[39mself\u001b[39;49m\u001b[39m.\u001b[39;49mfigure\u001b[39m.\u001b[39;49mcanvas\u001b[39m.\u001b[39;49mfixed_dpi)\n\u001b[1;32m   2356\u001b[0m     _bbox_inches_restore \u001b[39m=\u001b[39m (bbox_inches, restore_bbox)\n\u001b[1;32m   2357\u001b[0m \u001b[39melse\u001b[39;00m:\n",
            "File \u001b[0;32m~/.local/lib/python3.10/site-packages/matplotlib/_tight_bbox.py:28\u001b[0m, in \u001b[0;36madjust_bbox\u001b[0;34m(fig, bbox_inches, fixed_dpi)\u001b[0m\n\u001b[1;32m     26\u001b[0m locator \u001b[39m=\u001b[39m ax\u001b[39m.\u001b[39mget_axes_locator()\n\u001b[1;32m     27\u001b[0m \u001b[39mif\u001b[39;00m locator \u001b[39mis\u001b[39;00m \u001b[39mnot\u001b[39;00m \u001b[39mNone\u001b[39;00m:\n\u001b[0;32m---> 28\u001b[0m     ax\u001b[39m.\u001b[39mapply_aspect(locator(ax, \u001b[39mNone\u001b[39;49;00m))\n\u001b[1;32m     29\u001b[0m locator_list\u001b[39m.\u001b[39mappend(locator)\n\u001b[1;32m     30\u001b[0m current_pos \u001b[39m=\u001b[39m ax\u001b[39m.\u001b[39mget_position(original\u001b[39m=\u001b[39m\u001b[39mFalse\u001b[39;00m)\u001b[39m.\u001b[39mfrozen()\n",
            "File \u001b[0;32m~/.local/lib/python3.10/site-packages/mpl_toolkits/axes_grid1/inset_locator.py:73\u001b[0m, in \u001b[0;36mAnchoredLocatorBase.__call__\u001b[0;34m(self, ax, renderer)\u001b[0m\n\u001b[1;32m     71\u001b[0m \u001b[39mdef\u001b[39;00m \u001b[39m__call__\u001b[39m(\u001b[39mself\u001b[39m, ax, renderer):\n\u001b[1;32m     72\u001b[0m     \u001b[39mself\u001b[39m\u001b[39m.\u001b[39maxes \u001b[39m=\u001b[39m ax\n\u001b[0;32m---> 73\u001b[0m     bbox \u001b[39m=\u001b[39m \u001b[39mself\u001b[39;49m\u001b[39m.\u001b[39;49mget_window_extent(renderer)\n\u001b[1;32m     74\u001b[0m     px, py \u001b[39m=\u001b[39m \u001b[39mself\u001b[39m\u001b[39m.\u001b[39mget_offset(bbox\u001b[39m.\u001b[39mwidth, bbox\u001b[39m.\u001b[39mheight, \u001b[39m0\u001b[39m, \u001b[39m0\u001b[39m, renderer)\n\u001b[1;32m     75\u001b[0m     bbox_canvas \u001b[39m=\u001b[39m Bbox\u001b[39m.\u001b[39mfrom_bounds(px, py, bbox\u001b[39m.\u001b[39mwidth, bbox\u001b[39m.\u001b[39mheight)\n",
            "File \u001b[0;32m~/.local/lib/python3.10/site-packages/matplotlib/offsetbox.py:399\u001b[0m, in \u001b[0;36mOffsetBox.get_window_extent\u001b[0;34m(self, renderer)\u001b[0m\n\u001b[1;32m    396\u001b[0m \u001b[39mdef\u001b[39;00m \u001b[39mget_window_extent\u001b[39m(\u001b[39mself\u001b[39m, renderer\u001b[39m=\u001b[39m\u001b[39mNone\u001b[39;00m):\n\u001b[1;32m    397\u001b[0m     \u001b[39m# docstring inherited\u001b[39;00m\n\u001b[1;32m    398\u001b[0m     \u001b[39mif\u001b[39;00m renderer \u001b[39mis\u001b[39;00m \u001b[39mNone\u001b[39;00m:\n\u001b[0;32m--> 399\u001b[0m         renderer \u001b[39m=\u001b[39m \u001b[39mself\u001b[39;49m\u001b[39m.\u001b[39;49mfigure\u001b[39m.\u001b[39;49m_get_renderer()\n\u001b[1;32m    400\u001b[0m     bbox \u001b[39m=\u001b[39m \u001b[39mself\u001b[39m\u001b[39m.\u001b[39mget_bbox(renderer)\n\u001b[1;32m    401\u001b[0m     \u001b[39mtry\u001b[39;00m:  \u001b[39m# Some subclasses redefine get_offset to take no args.\u001b[39;00m\n",
            "\u001b[0;31mAttributeError\u001b[0m: 'NoneType' object has no attribute '_get_renderer'"
          ]
        },
        {
          "data": {
            "text/plain": [
              "<Figure size 640x300 with 2 Axes>"
            ]
          },
          "metadata": {},
          "output_type": "display_data"
        },
        {
          "name": "stdout",
          "output_type": "stream",
          "text": [
            "Just got epoch 16\n"
          ]
        },
        {
          "ename": "AttributeError",
          "evalue": "'NoneType' object has no attribute '_get_renderer'",
          "output_type": "error",
          "traceback": [
            "\u001b[0;31m---------------------------------------------------------------------------\u001b[0m",
            "\u001b[0;31mAttributeError\u001b[0m                            Traceback (most recent call last)",
            "File \u001b[0;32m~/.local/lib/python3.10/site-packages/IPython/core/formatters.py:340\u001b[0m, in \u001b[0;36mBaseFormatter.__call__\u001b[0;34m(self, obj)\u001b[0m\n\u001b[1;32m    338\u001b[0m     \u001b[39mpass\u001b[39;00m\n\u001b[1;32m    339\u001b[0m \u001b[39melse\u001b[39;00m:\n\u001b[0;32m--> 340\u001b[0m     \u001b[39mreturn\u001b[39;00m printer(obj)\n\u001b[1;32m    341\u001b[0m \u001b[39m# Finally look for special method names\u001b[39;00m\n\u001b[1;32m    342\u001b[0m method \u001b[39m=\u001b[39m get_real_method(obj, \u001b[39mself\u001b[39m\u001b[39m.\u001b[39mprint_method)\n",
            "File \u001b[0;32m~/.local/lib/python3.10/site-packages/IPython/core/pylabtools.py:152\u001b[0m, in \u001b[0;36mprint_figure\u001b[0;34m(fig, fmt, bbox_inches, base64, **kwargs)\u001b[0m\n\u001b[1;32m    149\u001b[0m     \u001b[39mfrom\u001b[39;00m \u001b[39mmatplotlib\u001b[39;00m\u001b[39m.\u001b[39;00m\u001b[39mbackend_bases\u001b[39;00m \u001b[39mimport\u001b[39;00m FigureCanvasBase\n\u001b[1;32m    150\u001b[0m     FigureCanvasBase(fig)\n\u001b[0;32m--> 152\u001b[0m fig\u001b[39m.\u001b[39;49mcanvas\u001b[39m.\u001b[39;49mprint_figure(bytes_io, \u001b[39m*\u001b[39;49m\u001b[39m*\u001b[39;49mkw)\n\u001b[1;32m    153\u001b[0m data \u001b[39m=\u001b[39m bytes_io\u001b[39m.\u001b[39mgetvalue()\n\u001b[1;32m    154\u001b[0m \u001b[39mif\u001b[39;00m fmt \u001b[39m==\u001b[39m \u001b[39m'\u001b[39m\u001b[39msvg\u001b[39m\u001b[39m'\u001b[39m:\n",
            "File \u001b[0;32m~/.local/lib/python3.10/site-packages/matplotlib/backend_bases.py:2353\u001b[0m, in \u001b[0;36mFigureCanvasBase.print_figure\u001b[0;34m(self, filename, dpi, facecolor, edgecolor, orientation, format, bbox_inches, pad_inches, bbox_extra_artists, backend, **kwargs)\u001b[0m\n\u001b[1;32m   2350\u001b[0m         bbox_inches \u001b[39m=\u001b[39m bbox_inches\u001b[39m.\u001b[39mpadded(pad_inches)\n\u001b[1;32m   2352\u001b[0m     \u001b[39m# call adjust_bbox to save only the given area\u001b[39;00m\n\u001b[0;32m-> 2353\u001b[0m     restore_bbox \u001b[39m=\u001b[39m _tight_bbox\u001b[39m.\u001b[39;49madjust_bbox(\n\u001b[1;32m   2354\u001b[0m         \u001b[39mself\u001b[39;49m\u001b[39m.\u001b[39;49mfigure, bbox_inches, \u001b[39mself\u001b[39;49m\u001b[39m.\u001b[39;49mfigure\u001b[39m.\u001b[39;49mcanvas\u001b[39m.\u001b[39;49mfixed_dpi)\n\u001b[1;32m   2356\u001b[0m     _bbox_inches_restore \u001b[39m=\u001b[39m (bbox_inches, restore_bbox)\n\u001b[1;32m   2357\u001b[0m \u001b[39melse\u001b[39;00m:\n",
            "File \u001b[0;32m~/.local/lib/python3.10/site-packages/matplotlib/_tight_bbox.py:28\u001b[0m, in \u001b[0;36madjust_bbox\u001b[0;34m(fig, bbox_inches, fixed_dpi)\u001b[0m\n\u001b[1;32m     26\u001b[0m locator \u001b[39m=\u001b[39m ax\u001b[39m.\u001b[39mget_axes_locator()\n\u001b[1;32m     27\u001b[0m \u001b[39mif\u001b[39;00m locator \u001b[39mis\u001b[39;00m \u001b[39mnot\u001b[39;00m \u001b[39mNone\u001b[39;00m:\n\u001b[0;32m---> 28\u001b[0m     ax\u001b[39m.\u001b[39mapply_aspect(locator(ax, \u001b[39mNone\u001b[39;49;00m))\n\u001b[1;32m     29\u001b[0m locator_list\u001b[39m.\u001b[39mappend(locator)\n\u001b[1;32m     30\u001b[0m current_pos \u001b[39m=\u001b[39m ax\u001b[39m.\u001b[39mget_position(original\u001b[39m=\u001b[39m\u001b[39mFalse\u001b[39;00m)\u001b[39m.\u001b[39mfrozen()\n",
            "File \u001b[0;32m~/.local/lib/python3.10/site-packages/mpl_toolkits/axes_grid1/inset_locator.py:73\u001b[0m, in \u001b[0;36mAnchoredLocatorBase.__call__\u001b[0;34m(self, ax, renderer)\u001b[0m\n\u001b[1;32m     71\u001b[0m \u001b[39mdef\u001b[39;00m \u001b[39m__call__\u001b[39m(\u001b[39mself\u001b[39m, ax, renderer):\n\u001b[1;32m     72\u001b[0m     \u001b[39mself\u001b[39m\u001b[39m.\u001b[39maxes \u001b[39m=\u001b[39m ax\n\u001b[0;32m---> 73\u001b[0m     bbox \u001b[39m=\u001b[39m \u001b[39mself\u001b[39;49m\u001b[39m.\u001b[39;49mget_window_extent(renderer)\n\u001b[1;32m     74\u001b[0m     px, py \u001b[39m=\u001b[39m \u001b[39mself\u001b[39m\u001b[39m.\u001b[39mget_offset(bbox\u001b[39m.\u001b[39mwidth, bbox\u001b[39m.\u001b[39mheight, \u001b[39m0\u001b[39m, \u001b[39m0\u001b[39m, renderer)\n\u001b[1;32m     75\u001b[0m     bbox_canvas \u001b[39m=\u001b[39m Bbox\u001b[39m.\u001b[39mfrom_bounds(px, py, bbox\u001b[39m.\u001b[39mwidth, bbox\u001b[39m.\u001b[39mheight)\n",
            "File \u001b[0;32m~/.local/lib/python3.10/site-packages/matplotlib/offsetbox.py:399\u001b[0m, in \u001b[0;36mOffsetBox.get_window_extent\u001b[0;34m(self, renderer)\u001b[0m\n\u001b[1;32m    396\u001b[0m \u001b[39mdef\u001b[39;00m \u001b[39mget_window_extent\u001b[39m(\u001b[39mself\u001b[39m, renderer\u001b[39m=\u001b[39m\u001b[39mNone\u001b[39;00m):\n\u001b[1;32m    397\u001b[0m     \u001b[39m# docstring inherited\u001b[39;00m\n\u001b[1;32m    398\u001b[0m     \u001b[39mif\u001b[39;00m renderer \u001b[39mis\u001b[39;00m \u001b[39mNone\u001b[39;00m:\n\u001b[0;32m--> 399\u001b[0m         renderer \u001b[39m=\u001b[39m \u001b[39mself\u001b[39;49m\u001b[39m.\u001b[39;49mfigure\u001b[39m.\u001b[39;49m_get_renderer()\n\u001b[1;32m    400\u001b[0m     bbox \u001b[39m=\u001b[39m \u001b[39mself\u001b[39m\u001b[39m.\u001b[39mget_bbox(renderer)\n\u001b[1;32m    401\u001b[0m     \u001b[39mtry\u001b[39;00m:  \u001b[39m# Some subclasses redefine get_offset to take no args.\u001b[39;00m\n",
            "\u001b[0;31mAttributeError\u001b[0m: 'NoneType' object has no attribute '_get_renderer'"
          ]
        },
        {
          "data": {
            "text/plain": [
              "<Figure size 640x300 with 2 Axes>"
            ]
          },
          "metadata": {},
          "output_type": "display_data"
        },
        {
          "name": "stdout",
          "output_type": "stream",
          "text": [
            "Just got epoch 17\n"
          ]
        },
        {
          "ename": "AttributeError",
          "evalue": "'NoneType' object has no attribute '_get_renderer'",
          "output_type": "error",
          "traceback": [
            "\u001b[0;31m---------------------------------------------------------------------------\u001b[0m",
            "\u001b[0;31mAttributeError\u001b[0m                            Traceback (most recent call last)",
            "File \u001b[0;32m~/.local/lib/python3.10/site-packages/IPython/core/formatters.py:340\u001b[0m, in \u001b[0;36mBaseFormatter.__call__\u001b[0;34m(self, obj)\u001b[0m\n\u001b[1;32m    338\u001b[0m     \u001b[39mpass\u001b[39;00m\n\u001b[1;32m    339\u001b[0m \u001b[39melse\u001b[39;00m:\n\u001b[0;32m--> 340\u001b[0m     \u001b[39mreturn\u001b[39;00m printer(obj)\n\u001b[1;32m    341\u001b[0m \u001b[39m# Finally look for special method names\u001b[39;00m\n\u001b[1;32m    342\u001b[0m method \u001b[39m=\u001b[39m get_real_method(obj, \u001b[39mself\u001b[39m\u001b[39m.\u001b[39mprint_method)\n",
            "File \u001b[0;32m~/.local/lib/python3.10/site-packages/IPython/core/pylabtools.py:152\u001b[0m, in \u001b[0;36mprint_figure\u001b[0;34m(fig, fmt, bbox_inches, base64, **kwargs)\u001b[0m\n\u001b[1;32m    149\u001b[0m     \u001b[39mfrom\u001b[39;00m \u001b[39mmatplotlib\u001b[39;00m\u001b[39m.\u001b[39;00m\u001b[39mbackend_bases\u001b[39;00m \u001b[39mimport\u001b[39;00m FigureCanvasBase\n\u001b[1;32m    150\u001b[0m     FigureCanvasBase(fig)\n\u001b[0;32m--> 152\u001b[0m fig\u001b[39m.\u001b[39;49mcanvas\u001b[39m.\u001b[39;49mprint_figure(bytes_io, \u001b[39m*\u001b[39;49m\u001b[39m*\u001b[39;49mkw)\n\u001b[1;32m    153\u001b[0m data \u001b[39m=\u001b[39m bytes_io\u001b[39m.\u001b[39mgetvalue()\n\u001b[1;32m    154\u001b[0m \u001b[39mif\u001b[39;00m fmt \u001b[39m==\u001b[39m \u001b[39m'\u001b[39m\u001b[39msvg\u001b[39m\u001b[39m'\u001b[39m:\n",
            "File \u001b[0;32m~/.local/lib/python3.10/site-packages/matplotlib/backend_bases.py:2353\u001b[0m, in \u001b[0;36mFigureCanvasBase.print_figure\u001b[0;34m(self, filename, dpi, facecolor, edgecolor, orientation, format, bbox_inches, pad_inches, bbox_extra_artists, backend, **kwargs)\u001b[0m\n\u001b[1;32m   2350\u001b[0m         bbox_inches \u001b[39m=\u001b[39m bbox_inches\u001b[39m.\u001b[39mpadded(pad_inches)\n\u001b[1;32m   2352\u001b[0m     \u001b[39m# call adjust_bbox to save only the given area\u001b[39;00m\n\u001b[0;32m-> 2353\u001b[0m     restore_bbox \u001b[39m=\u001b[39m _tight_bbox\u001b[39m.\u001b[39;49madjust_bbox(\n\u001b[1;32m   2354\u001b[0m         \u001b[39mself\u001b[39;49m\u001b[39m.\u001b[39;49mfigure, bbox_inches, \u001b[39mself\u001b[39;49m\u001b[39m.\u001b[39;49mfigure\u001b[39m.\u001b[39;49mcanvas\u001b[39m.\u001b[39;49mfixed_dpi)\n\u001b[1;32m   2356\u001b[0m     _bbox_inches_restore \u001b[39m=\u001b[39m (bbox_inches, restore_bbox)\n\u001b[1;32m   2357\u001b[0m \u001b[39melse\u001b[39;00m:\n",
            "File \u001b[0;32m~/.local/lib/python3.10/site-packages/matplotlib/_tight_bbox.py:28\u001b[0m, in \u001b[0;36madjust_bbox\u001b[0;34m(fig, bbox_inches, fixed_dpi)\u001b[0m\n\u001b[1;32m     26\u001b[0m locator \u001b[39m=\u001b[39m ax\u001b[39m.\u001b[39mget_axes_locator()\n\u001b[1;32m     27\u001b[0m \u001b[39mif\u001b[39;00m locator \u001b[39mis\u001b[39;00m \u001b[39mnot\u001b[39;00m \u001b[39mNone\u001b[39;00m:\n\u001b[0;32m---> 28\u001b[0m     ax\u001b[39m.\u001b[39mapply_aspect(locator(ax, \u001b[39mNone\u001b[39;49;00m))\n\u001b[1;32m     29\u001b[0m locator_list\u001b[39m.\u001b[39mappend(locator)\n\u001b[1;32m     30\u001b[0m current_pos \u001b[39m=\u001b[39m ax\u001b[39m.\u001b[39mget_position(original\u001b[39m=\u001b[39m\u001b[39mFalse\u001b[39;00m)\u001b[39m.\u001b[39mfrozen()\n",
            "File \u001b[0;32m~/.local/lib/python3.10/site-packages/mpl_toolkits/axes_grid1/inset_locator.py:73\u001b[0m, in \u001b[0;36mAnchoredLocatorBase.__call__\u001b[0;34m(self, ax, renderer)\u001b[0m\n\u001b[1;32m     71\u001b[0m \u001b[39mdef\u001b[39;00m \u001b[39m__call__\u001b[39m(\u001b[39mself\u001b[39m, ax, renderer):\n\u001b[1;32m     72\u001b[0m     \u001b[39mself\u001b[39m\u001b[39m.\u001b[39maxes \u001b[39m=\u001b[39m ax\n\u001b[0;32m---> 73\u001b[0m     bbox \u001b[39m=\u001b[39m \u001b[39mself\u001b[39;49m\u001b[39m.\u001b[39;49mget_window_extent(renderer)\n\u001b[1;32m     74\u001b[0m     px, py \u001b[39m=\u001b[39m \u001b[39mself\u001b[39m\u001b[39m.\u001b[39mget_offset(bbox\u001b[39m.\u001b[39mwidth, bbox\u001b[39m.\u001b[39mheight, \u001b[39m0\u001b[39m, \u001b[39m0\u001b[39m, renderer)\n\u001b[1;32m     75\u001b[0m     bbox_canvas \u001b[39m=\u001b[39m Bbox\u001b[39m.\u001b[39mfrom_bounds(px, py, bbox\u001b[39m.\u001b[39mwidth, bbox\u001b[39m.\u001b[39mheight)\n",
            "File \u001b[0;32m~/.local/lib/python3.10/site-packages/matplotlib/offsetbox.py:399\u001b[0m, in \u001b[0;36mOffsetBox.get_window_extent\u001b[0;34m(self, renderer)\u001b[0m\n\u001b[1;32m    396\u001b[0m \u001b[39mdef\u001b[39;00m \u001b[39mget_window_extent\u001b[39m(\u001b[39mself\u001b[39m, renderer\u001b[39m=\u001b[39m\u001b[39mNone\u001b[39;00m):\n\u001b[1;32m    397\u001b[0m     \u001b[39m# docstring inherited\u001b[39;00m\n\u001b[1;32m    398\u001b[0m     \u001b[39mif\u001b[39;00m renderer \u001b[39mis\u001b[39;00m \u001b[39mNone\u001b[39;00m:\n\u001b[0;32m--> 399\u001b[0m         renderer \u001b[39m=\u001b[39m \u001b[39mself\u001b[39;49m\u001b[39m.\u001b[39;49mfigure\u001b[39m.\u001b[39;49m_get_renderer()\n\u001b[1;32m    400\u001b[0m     bbox \u001b[39m=\u001b[39m \u001b[39mself\u001b[39m\u001b[39m.\u001b[39mget_bbox(renderer)\n\u001b[1;32m    401\u001b[0m     \u001b[39mtry\u001b[39;00m:  \u001b[39m# Some subclasses redefine get_offset to take no args.\u001b[39;00m\n",
            "\u001b[0;31mAttributeError\u001b[0m: 'NoneType' object has no attribute '_get_renderer'"
          ]
        },
        {
          "data": {
            "text/plain": [
              "<Figure size 640x300 with 2 Axes>"
            ]
          },
          "metadata": {},
          "output_type": "display_data"
        },
        {
          "name": "stdout",
          "output_type": "stream",
          "text": [
            "Waiting for epoch 18\n",
            "Time of 2.0 seconds exceeded.\n"
          ]
        }
      ],
      "source": [
        "# Authors: Martin Luessi <mluessi@nmr.mgh.harvard.edu>\n",
        "#          Mainak Jas <mainak@neuro.hut.fi>\n",
        "#\n",
        "# License: BSD (3-clause)\n",
        "\n",
        "import matplotlib.pyplot as plt\n",
        "\n",
        "import mne\n",
        "from mne.io import Raw, RawArray\n",
        "from mne.datasets import sample\n",
        "from mne.datasets import eegbci\n",
        "from mne.io import concatenate_raws, read_raw_edf\n",
        "from mne.channels import make_standard_montage\n",
        "from mne import  pick_types, events_from_annotations, set_log_level, pick_channels, create_info\n",
        "\n",
        "from mne_realtime import RtEpochs, MockRtClient\n",
        "\n",
        "import numpy as np\n",
        "import sys\n",
        "np.set_printoptions(threshold=sys.maxsize)\n",
        "\n",
        "STIM_CHANNEL = 'STI 014'\n",
        "\n",
        "set_log_level(verbose=False)\n",
        "\n",
        "\n",
        "raw_fnames = eegbci.load_data(subject=1, runs=[6, 10, 14])                  # -Get paths to edf files.\n",
        "# raw = read_raw_edf(raw_fnames[0], preload=True) # -Load(read_raw_edf) in memomry(preloard=True) recprdings and convcatenate them.\n",
        "raw = concatenate_raws([read_raw_edf(f, preload=True) for f in raw_fnames]) # -Load(read_raw_edf) in memomry(preloard=True) recprdings and convcatenate them.\n",
        "eegbci.standardize(raw)  # set channel names                                # -Not sure what this does but it's necessary...\n",
        "raw.set_montage(make_standard_montage(\"standard_1005\"))                     # -Specify to MNE what montage/setup was used during the recording.\n",
        "                                                                            #  \"standard_1005\" refers to a standardized way of placing electrodes on the testee.\n",
        "                                                                            #  See https://en.wikipedia.org/wiki/10%E2%80%9320_system_(EEG).\n",
        "\n",
        "events, _ = events_from_annotations(raw, event_id=dict(T0=1, T1=2, T2=3))   # -Make events from annotaions, only use T1 and T2 annotations. Mark them as 0 and 1 respectively.\n",
        "events = np.delete(events, 1, axis=1)\n",
        "# print(events)\n",
        "TYPE_I = 1\n",
        "SAMPLE_I = 0                                                                #  According to the Physionet EEG-MI dataset web page(https://physionet.org/content/eegmmidb/1.0.0/),\n",
        "                                                                            #  T0 corresponds to the motion of both fists and T1 to the motion of both feet.\n",
        "\n",
        "# MAKE INFO \n",
        "stim_info = mne.create_info(ch_names=[STIM_CHANNEL], sfreq=raw.info['sfreq'], ch_types='stim')\n",
        "# MAKE STIM_DATA FROM EVENTS\n",
        "stim_data = np.empty((1, raw.get_data().shape[1]))\n",
        "for i in range(events.shape[0] - 1):\n",
        "    stim_data[0, events[i, 0]:events[i+1, 0]] = events[i, 1]\n",
        "stim_data[0, events[-1, 0]:stim_data.shape[1]] = events[-1, 1]\n",
        "# MAKE RAW FROM STIM_DATA AND INFO\n",
        "raw_stim = RawArray(np.zeros((1, raw.get_data().shape[1])), stim_info)\n",
        "# ADD CHANNELS \n",
        "raw.add_channels([raw_stim])\n",
        "events_test, _ = events_from_annotations(raw, event_id=dict(T0=1, T1=2, T2=3))\n",
        "raw.add_events(events_test, STIM_CHANNEL)\n",
        "\n",
        "raw.filter(7.0, 30.0, skip_by_annotation=\"edge\", verbose=False)                            # -Apply bandpass filter, only keep frequecies in the range 7-30 Hz.\n",
        "\n",
        "# create the mock-real-time-client object\n",
        "rt_client = MockRtClient(raw, verbose=True)\n",
        "print(rt_client.get_event_data(1, 0, 2).shape)\n",
        "\n",
        "\n",
        "picks = pick_types(raw.info, eeg=True, stim=True)                          # -Specify that we only want to listen to the EEG channels, the other channels are set to False by default.\n",
        "\n",
        "\n",
        "set_log_level(verbose=True)\n",
        "# create the real-time epochs object\n",
        "rt_epochs = RtEpochs(\n",
        "    rt_client,\n",
        "    event_id=[0, 1],\n",
        "    tmin=-1.0,\n",
        "    tmax=4.0,\n",
        "    picks=picks,\n",
        "    decim=1\n",
        "    )\n",
        "\n",
        "# # start the acquisition\n",
        "rt_epochs.start()\n",
        "# # send raw buffers\n",
        "rt_client.send_data(rt_epochs, picks, tmin=0, tmax=150, buffer_size=1000)\n",
        "for ii, ev in enumerate(rt_epochs.iter_evoked()):\n",
        "    print(\"Just got epoch %d\" % (ii + 1))\n",
        "    ev.plot(picks,)\n",
        "    # ev.pick_types(meg=True, eog=False)  # leave out the eog channel\n",
        "    # if ii == 0:\n",
        "    #     evoked = ev\n",
        "    # else:\n",
        "    #     evoked = mne.combine_evoked([evoked, ev], weights='nave')\n",
        "    # plt.clf()  # clear canvas\n",
        "    # evoked.plot(axes=plt.gca(), time_unit='s')  # plot on current figure\n",
        "    # plt.pause(0.05)"
      ]
    }
  ],
  "metadata": {
    "kernelspec": {
      "display_name": "Python 3",
      "language": "python",
      "name": "python3"
    },
    "language_info": {
      "codemirror_mode": {
        "name": "ipython",
        "version": 3
      },
      "file_extension": ".py",
      "mimetype": "text/x-python",
      "name": "python",
      "nbconvert_exporter": "python",
      "pygments_lexer": "ipython3",
      "version": "3.10.12"
    }
  },
  "nbformat": 4,
  "nbformat_minor": 0
}
