{
  "cells": [
    {
      "cell_type": "markdown",
      "metadata": {},
      "source": [
        "\n",
        "# Compute real-time evoked responses using moving averages\n",
        "\n",
        "This example demonstrates how to connect to an MNE Real-time server\n",
        "using the RtClient and use it together with RtEpochs to compute\n",
        "evoked responses using moving averages.\n",
        "\n",
        "Note: The MNE Real-time server (mne_rt_server), which is part of mne-cpp, has to be running on the same computer."
      ]
    },
    {
      "cell_type": "code",
      "execution_count": 66,
      "metadata": {
        "collapsed": false
      },
      "outputs": [
        {
          "name": "stdout",
          "output_type": "stream",
          "text": [
            "Not setting metadata\n",
            "Setting baseline interval to [-1.0, 0.0] s\n",
            "Applying baseline correction (mode: mean)\n",
            "0 projection items activated\n",
            "Waiting for epoch 1\n"
          ]
        }
      ],
      "source": [
        "# Authors: Martin Luessi <mluessi@nmr.mgh.harvard.edu>\n",
        "#          Mainak Jas <mainak@neuro.hut.fi>\n",
        "#\n",
        "# License: BSD (3-clause)\n",
        "\n",
        "import matplotlib.pyplot as plt\n",
        "\n",
        "import mne\n",
        "from mne.io import Raw, RawArray\n",
        "from mne.datasets import sample\n",
        "from mne.datasets import eegbci\n",
        "from mne.io import concatenate_raws, read_raw_edf\n",
        "from mne.channels import make_standard_montage\n",
        "from mne import  pick_types, events_from_annotations, set_log_level, pick_channels, create_info\n",
        "\n",
        "from mne_realtime import RtEpochs, MockRtClient\n",
        "\n",
        "import numpy as np\n",
        "import sys\n",
        "np.set_printoptions(threshold=sys.maxsize)\n",
        "\n",
        "STIM_CHANNEL = 'STI 014'\n",
        "\n",
        "set_log_level(verbose=False)\n",
        "\n",
        "\n",
        "raw_fnames = eegbci.load_data(subject=1, runs=[6, 10, 14])                  # -Get paths to edf files.\n",
        "# raw = read_raw_edf(raw_fnames[0], preload=True) # -Load(read_raw_edf) in memomry(preloard=True) recprdings and convcatenate them.\n",
        "raw = concatenate_raws([read_raw_edf(f, preload=True) for f in raw_fnames]) # -Load(read_raw_edf) in memomry(preloard=True) recprdings and convcatenate them.\n",
        "eegbci.standardize(raw)  # set channel names                                # -Not sure what this does but it's necessary...\n",
        "raw.set_montage(make_standard_montage(\"standard_1005\"))                     # -Specify to MNE what montage/setup was used during the recording.\n",
        "                                                                            #  \"standard_1005\" refers to a standardized way of placing electrodes on the testee.\n",
        "                                                                            #  See https://en.wikipedia.org/wiki/10%E2%80%9320_system_(EEG).\n",
        "\n",
        "picks = pick_types(raw.info, eeg=True, stim=False)                          # -Specify that we only want to listen to the EEG channels, the other channels are set to False by default.\n",
        "events, _ = events_from_annotations(raw, event_id=dict(T0=1, T1=2, T2=3))   # -Make events from annotaions, only use T1 and T2 annotations. Mark them as 0 and 1 respectively.\n",
        "events = np.delete(events, 1, axis=1)\n",
        "# print(events)\n",
        "TYPE_I = 1\n",
        "SAMPLE_I = 0                                                                #  According to the Physionet EEG-MI dataset web page(https://physionet.org/content/eegmmidb/1.0.0/),\n",
        "                                                                            #  T0 corresponds to the motion of both fists and T1 to the motion of both feet.\n",
        "\n",
        "# MAKE INFO \n",
        "stim_info = mne.create_info(ch_names=[STIM_CHANNEL], sfreq=raw.info['sfreq'], ch_types='stim')\n",
        "# MAKE STIM_DATA FROM EVENTS\n",
        "stim_data = np.empty((1, raw.get_data().shape[1]))\n",
        "for i in range(events.shape[0] - 1):\n",
        "    stim_data[0, events[i, 0]:events[i+1, 0]] = events[i, 1]\n",
        "stim_data[0, events[-1, 0]:stim_data.shape[1]] = events[-1, 1]\n",
        "# MAKE RAW FROM STIM_DATA AND INFO\n",
        "raw_stim = RawArray(np.zeros((1, raw.get_data().shape[1])), stim_info)\n",
        "# ADD CHANNELS \n",
        "raw.add_channels([raw_stim])\n",
        "\n",
        "raw.filter(7.0, 30.0, skip_by_annotation=\"edge\", verbose=False)                            # -Apply bandpass filter, only keep frequecies in the range 7-30 Hz.\n",
        "\n",
        "# create the mock-real-time-client object\n",
        "rt_client = MockRtClient(raw)\n",
        "\n",
        "\n",
        "set_log_level(verbose=True)\n",
        "# create the real-time epochs object\n",
        "rt_epochs = RtEpochs(\n",
        "    rt_client,\n",
        "    event_id=[0, 1],\n",
        "    tmin=-1.0,\n",
        "    tmax=4.0,\n",
        "    picks=picks\n",
        "    )\n",
        "\n",
        "# # start the acquisition\n",
        "rt_epochs.start()\n",
        "\n",
        "# # send raw buffers\n",
        "rt_client.send_data(rt_epochs, picks, tmin=0, tmax=150, buffer_size=1000)\n",
        "for ii, ev in enumerate(rt_epochs.iter_evoked()):\n",
        "    print(\"Just got epoch %d\" % (ii + 1))\n",
        "    # ev.pick_types(meg=True, eog=False)  # leave out the eog channel\n",
        "    # if ii == 0:\n",
        "    #     evoked = ev\n",
        "    # else:\n",
        "    #     evoked = mne.combine_evoked([evoked, ev], weights='nave')\n",
        "    # plt.clf()  # clear canvas\n",
        "    # evoked.plot(axes=plt.gca(), time_unit='s')  # plot on current figure\n",
        "    # plt.pause(0.05)"
      ]
    }
  ],
  "metadata": {
    "kernelspec": {
      "display_name": "Python 3",
      "language": "python",
      "name": "python3"
    },
    "language_info": {
      "codemirror_mode": {
        "name": "ipython",
        "version": 3
      },
      "file_extension": ".py",
      "mimetype": "text/x-python",
      "name": "python",
      "nbconvert_exporter": "python",
      "pygments_lexer": "ipython3",
      "version": "3.10.12"
    }
  },
  "nbformat": 4,
  "nbformat_minor": 0
}
